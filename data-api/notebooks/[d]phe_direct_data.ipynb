{
 "cells": [
  {
   "cell_type": "markdown",
   "metadata": {},
   "source": [
    "# Getting data from Public Health England"
   ]
  },
  {
   "cell_type": "code",
   "execution_count": 20,
   "metadata": {},
   "outputs": [
    {
     "name": "stdout",
     "output_type": "stream",
     "text": [
      "The autoreload extension is already loaded. To reload it, use:\n",
      "  %reload_ext autoreload\n"
     ]
    }
   ],
   "source": [
    "import os\n",
    "import sys\n",
    "module_path = os.path.abspath(os.pardir)\n",
    "if module_path not in sys.path:\n",
    "    sys.path.append(module_path)\n",
    "    \n",
    "%load_ext autoreload\n",
    "%autoreload 2"
   ]
  },
  {
   "cell_type": "code",
   "execution_count": 27,
   "metadata": {},
   "outputs": [],
   "source": [
    "import json\n",
    "from collections import Counter\n",
    "from pathlib import Path\n",
    "from urllib import parse\n",
    "import json\n",
    "import requests\n",
    "import pandas as pd\n",
    "from pprint import pprint\n",
    "\n",
    "from stream import test_endpoints, get_token, register, generate_streams_from_urls"
   ]
  },
  {
   "cell_type": "code",
   "execution_count": 28,
   "metadata": {},
   "outputs": [],
   "source": [
    "def generate_streams(base_streams, codes):\n",
    "    streams = []\n",
    "    for s in base_streams:\n",
    "        for c in codes:\n",
    "            scopy = s.copy()\n",
    "            scopy['endpoint'] = s['endpoint'] + '&areaCode=' + c\n",
    "            scopy['keywords'] = scopy['keywords'] + [c.lower()]\n",
    "            streams.append(scopy)\n",
    "    return streams"
   ]
  },
  {
   "cell_type": "code",
   "execution_count": 59,
   "metadata": {},
   "outputs": [],
   "source": [
    "token = get_token(prod=True)"
   ]
  },
  {
   "cell_type": "markdown",
   "metadata": {},
   "source": [
    "## Nation"
   ]
  },
  {
   "cell_type": "code",
   "execution_count": 86,
   "metadata": {},
   "outputs": [
    {
     "name": "stdout",
     "output_type": "stream",
     "text": [
      "{'urlCode': 'API_GOVUK', 'endpoint': 'https://api.coronavirus.data.gov.uk/v2/data?areaType=nation&metric=cumAdmissions&metric=newAdmissions&format=json', 'dataType': 'timeseries', 'keywords': ['phe', 'nation', 'hospital_admission', 'daily'], 'description': ''}\n"
     ]
    },
    {
     "data": {
      "text/plain": [
       "6"
      ]
     },
     "execution_count": 86,
     "metadata": {},
     "output_type": "execute_result"
    }
   ],
   "source": [
    "with open('../manifest/nation-streams.json') as f:\n",
    "    base_streams = json.load(f)\n",
    "\n",
    "print(base_streams[0])\n",
    "len(base_streams)"
   ]
  },
  {
   "cell_type": "code",
   "execution_count": 94,
   "metadata": {},
   "outputs": [
    {
     "name": "stdout",
     "output_type": "stream",
     "text": [
      "area_codes length 4\n",
      "area_codes length 3\n"
     ]
    }
   ],
   "source": [
    "area_codes = requests.get('https://api.coronavirus.data.gov.uk/generic/area/nation').json()\n",
    "area_codes = [a['areaCode'] for a in area_codes]\n",
    "print('area_codes length', len(area_codes))\n",
    "area_codes.remove('E92000001')\n",
    "print('area_codes length', len(area_codes))"
   ]
  },
  {
   "cell_type": "code",
   "execution_count": 95,
   "metadata": {},
   "outputs": [
    {
     "data": {
      "text/plain": [
       "18"
      ]
     },
     "execution_count": 95,
     "metadata": {},
     "output_type": "execute_result"
    }
   ],
   "source": [
    "# area_codes = ['E92000001']\n",
    "streams = generate_streams(base_streams, area_codes)\n",
    "len(streams)"
   ]
  },
  {
   "cell_type": "code",
   "execution_count": 96,
   "metadata": {},
   "outputs": [],
   "source": [
    "test_endpoints(streams, base_url='')"
   ]
  },
  {
   "cell_type": "code",
   "execution_count": 97,
   "metadata": {},
   "outputs": [],
   "source": [
    "for s in streams:\n",
    "    register(s, token, prod=True)"
   ]
  },
  {
   "cell_type": "markdown",
   "metadata": {},
   "source": [
    "## UTLA"
   ]
  },
  {
   "cell_type": "code",
   "execution_count": 110,
   "metadata": {},
   "outputs": [
    {
     "name": "stdout",
     "output_type": "stream",
     "text": [
      "{'urlCode': 'API_GOVUK', 'endpoint': 'https://api.coronavirus.data.gov.uk/v2/data?areaType=utla&metric=newCasesBySpecimenDate&metric=newDeaths28DaysByDeathDate&metric=newPeopleVaccinatedFirstDoseByVaccinationDate&metric=newPeopleVaccinatedSecondDoseByVaccinationDate&metric=cumVaccinationThirdInjectionUptakeByVaccinationDatePercentage&format=json', 'dataType': 'timeseries', 'keywords': ['phe', 'utla', 'group1'], 'description': ''}\n"
     ]
    },
    {
     "data": {
      "text/plain": [
       "2"
      ]
     },
     "execution_count": 110,
     "metadata": {},
     "output_type": "execute_result"
    }
   ],
   "source": [
    "with open('../manifest/utla-streams.json') as f:\n",
    "    base_streams = json.load(f)\n",
    "\n",
    "print(base_streams[0])\n",
    "len(base_streams)"
   ]
  },
  {
   "cell_type": "code",
   "execution_count": null,
   "metadata": {},
   "outputs": [],
   "source": [
    "# area_codes = requests.get('https://api.coronavirus.data.gov.uk/generic/area/utla').json()\n",
    "# sorted(a['areaCode'].lower() for a in area_codes)"
   ]
  },
  {
   "cell_type": "code",
   "execution_count": 111,
   "metadata": {},
   "outputs": [
    {
     "name": "stdout",
     "output_type": "stream",
     "text": [
      "area_codes length 216\n",
      "area_codes length 215\n"
     ]
    }
   ],
   "source": [
    "area_codes = requests.get('https://api.coronavirus.data.gov.uk/generic/area/utla').json()\n",
    "area_codes = [a['areaCode'] for a in area_codes]\n",
    "print('area_codes length', len(area_codes))\n",
    "area_codes.remove('S12000033')\n",
    "print('area_codes length', len(area_codes))"
   ]
  },
  {
   "cell_type": "code",
   "execution_count": 112,
   "metadata": {},
   "outputs": [
    {
     "data": {
      "text/plain": [
       "430"
      ]
     },
     "execution_count": 112,
     "metadata": {},
     "output_type": "execute_result"
    }
   ],
   "source": [
    "# area_codes = ['S12000033']\n",
    "streams = generate_streams(base_streams, area_codes)\n",
    "len(streams)"
   ]
  },
  {
   "cell_type": "code",
   "execution_count": 113,
   "metadata": {},
   "outputs": [],
   "source": [
    "test_endpoints(streams[:10], base_url='')"
   ]
  },
  {
   "cell_type": "code",
   "execution_count": 114,
   "metadata": {},
   "outputs": [],
   "source": [
    "for s in streams:\n",
    "    register(s, token, prod=True)"
   ]
  },
  {
   "cell_type": "markdown",
   "metadata": {},
   "source": [
    "## MSOA"
   ]
  },
  {
   "cell_type": "code",
   "execution_count": 115,
   "metadata": {},
   "outputs": [
    {
     "name": "stdout",
     "output_type": "stream",
     "text": [
      "{'urlCode': 'API_GOVUK', 'endpoint': 'https://api.coronavirus.data.gov.uk/v2/data?areaType=msoa&metric=newCasesBySpecimenDateRollingSum&metric=newCasesBySpecimenDateRollingRate&metric=newCasesBySpecimenDateChangePercentage&format=json', 'dataType': 'timeseries', 'keywords': ['phe', 'msoa', 'group1'], 'description': ''}\n"
     ]
    },
    {
     "data": {
      "text/plain": [
       "2"
      ]
     },
     "execution_count": 115,
     "metadata": {},
     "output_type": "execute_result"
    }
   ],
   "source": [
    "with open('../manifest/msoa-streams.json') as f:\n",
    "    base_streams = json.load(f)\n",
    "\n",
    "print(base_streams[0])\n",
    "len(base_streams)"
   ]
  },
  {
   "cell_type": "code",
   "execution_count": null,
   "metadata": {},
   "outputs": [],
   "source": [
    "# area_codes = requests.get('https://api.coronavirus.data.gov.uk/generic/area/msoa').json()\n",
    "# pprint(sorted(a['areaCode'].lower() for a in area_codes))"
   ]
  },
  {
   "cell_type": "code",
   "execution_count": 116,
   "metadata": {},
   "outputs": [
    {
     "name": "stdout",
     "output_type": "stream",
     "text": [
      "area_codes length 6791\n",
      "area_codes length 6790\n"
     ]
    }
   ],
   "source": [
    "area_codes = requests.get('https://api.coronavirus.data.gov.uk/generic/area/msoa').json()\n",
    "area_codes = [a['areaCode'] for a in area_codes]\n",
    "print('area_codes length', len(area_codes))\n",
    "area_codes.remove('E02000961')\n",
    "print('area_codes length', len(area_codes))"
   ]
  },
  {
   "cell_type": "code",
   "execution_count": 117,
   "metadata": {},
   "outputs": [
    {
     "data": {
      "text/plain": [
       "13580"
      ]
     },
     "execution_count": 117,
     "metadata": {},
     "output_type": "execute_result"
    }
   ],
   "source": [
    "# area_codes = ['E02000961']\n",
    "streams = generate_streams(base_streams, area_codes)\n",
    "len(streams)"
   ]
  },
  {
   "cell_type": "code",
   "execution_count": 122,
   "metadata": {},
   "outputs": [],
   "source": [
    "test_endpoints(streams[:10], base_url='')"
   ]
  },
  {
   "cell_type": "code",
   "execution_count": 124,
   "metadata": {},
   "outputs": [],
   "source": [
    "for s in streams:\n",
    "    register(s, token, prod=True)"
   ]
  },
  {
   "cell_type": "markdown",
   "metadata": {},
   "source": [
    "## NHS Region"
   ]
  },
  {
   "cell_type": "code",
   "execution_count": 48,
   "metadata": {},
   "outputs": [
    {
     "name": "stdout",
     "output_type": "stream",
     "text": [
      "{'urlCode': 'API_GOVUK', 'endpoint': 'https://api.coronavirus.data.gov.uk/v2/data?areaType=nhsRegion&metric=cumAdmissions&metric=hospitalCases&metric=newAdmissions&format=json', 'dataType': 'timeseries', 'keywords': ['phe', 'nhsregion', 'group1'], 'description': ''}\n"
     ]
    },
    {
     "data": {
      "text/plain": [
       "2"
      ]
     },
     "execution_count": 48,
     "metadata": {},
     "output_type": "execute_result"
    }
   ],
   "source": [
    "# with open('../manifest/nhsregion-streams.json') as f:\n",
    "#     base_streams = json.load(f)\n",
    "\n",
    "# print(base_streams[0])\n",
    "# len(base_streams)"
   ]
  },
  {
   "cell_type": "code",
   "execution_count": 24,
   "metadata": {},
   "outputs": [
    {
     "name": "stdout",
     "output_type": "stream",
     "text": [
      "['e40000003',\n",
      " 'e40000005',\n",
      " 'e40000006',\n",
      " 'e40000007',\n",
      " 'e40000008',\n",
      " 'e40000009',\n",
      " 'e40000010']\n"
     ]
    }
   ],
   "source": [
    "# area_codes = requests.get('https://api.coronavirus.data.gov.uk/generic/area/nhsregion').json()\n",
    "# pprint(sorted(a['areaCode'].lower() for a in area_codes))"
   ]
  },
  {
   "cell_type": "code",
   "execution_count": 25,
   "metadata": {},
   "outputs": [
    {
     "name": "stdout",
     "output_type": "stream",
     "text": [
      "{\n",
      "    \"e40000007\": \"East of England\",\n",
      "    \"e40000003\": \"London\",\n",
      "    \"e40000008\": \"Midlands\",\n",
      "    \"e40000009\": \"North East and Yorkshire\",\n",
      "    \"e40000010\": \"North West\",\n",
      "    \"e40000005\": \"South East\",\n",
      "    \"e40000006\": \"South West\"\n",
      "}\n"
     ]
    }
   ],
   "source": [
    "# # To update title genration\n",
    "# area_codes = requests.get('https://api.coronavirus.data.gov.uk/generic/area/nhsregion').json()\n",
    "# area_codes_dict = {a['areaCode'].lower(): a['areaName'] for a in area_codes}\n",
    "# print(json.dumps(area_codes_dict, indent=4))"
   ]
  },
  {
   "cell_type": "code",
   "execution_count": 49,
   "metadata": {},
   "outputs": [
    {
     "data": {
      "text/plain": [
       "2"
      ]
     },
     "execution_count": 49,
     "metadata": {},
     "output_type": "execute_result"
    }
   ],
   "source": [
    "# area_codes = ['E40000007']\n",
    "# streams = generate_streams(base_streams, area_codes)\n",
    "# len(streams)"
   ]
  },
  {
   "cell_type": "code",
   "execution_count": 51,
   "metadata": {},
   "outputs": [],
   "source": [
    "# test_endpoints(streams, base_url='')"
   ]
  },
  {
   "cell_type": "code",
   "execution_count": 52,
   "metadata": {},
   "outputs": [],
   "source": [
    "# for s in streams:\n",
    "#     register(s, token, prod=True)"
   ]
  },
  {
   "cell_type": "markdown",
   "metadata": {},
   "source": [
    "## Region"
   ]
  },
  {
   "cell_type": "code",
   "execution_count": 98,
   "metadata": {},
   "outputs": [
    {
     "name": "stdout",
     "output_type": "stream",
     "text": [
      "{'urlCode': 'API_GOVUK', 'endpoint': 'https://api.coronavirus.data.gov.uk/v2/data?areaType=region&metric=cumCasesBySpecimenDate&metric=newCasesBySpecimenDate&metric=uniqueCasePositivityBySpecimenDateRollingSum&metric=cumVaccinationFirstDoseUptakeByVaccinationDatePercentage&metric=cumVaccinationSecondDoseUptakeByVaccinationDatePercentage&format=json', 'dataType': 'timeseries', 'keywords': ['phe', 'region', 'group1'], 'description': ''}\n"
     ]
    },
    {
     "data": {
      "text/plain": [
       "8"
      ]
     },
     "execution_count": 98,
     "metadata": {},
     "output_type": "execute_result"
    }
   ],
   "source": [
    "with open('../manifest/region-streams.json') as f:\n",
    "    base_streams = json.load(f)\n",
    "\n",
    "print(base_streams[0])\n",
    "len(base_streams)"
   ]
  },
  {
   "cell_type": "code",
   "execution_count": 54,
   "metadata": {},
   "outputs": [
    {
     "name": "stdout",
     "output_type": "stream",
     "text": [
      "['e12000001',\n",
      " 'e12000002',\n",
      " 'e12000003',\n",
      " 'e12000004',\n",
      " 'e12000005',\n",
      " 'e12000006',\n",
      " 'e12000007',\n",
      " 'e12000008',\n",
      " 'e12000009']\n"
     ]
    }
   ],
   "source": [
    "# area_codes = requests.get('https://api.coronavirus.data.gov.uk/generic/area/region').json()\n",
    "# pprint(sorted(a['areaCode'].lower() for a in area_codes))"
   ]
  },
  {
   "cell_type": "code",
   "execution_count": 56,
   "metadata": {},
   "outputs": [
    {
     "name": "stdout",
     "output_type": "stream",
     "text": [
      "{\n",
      "    \"e12000004\": \"East Midlands\",\n",
      "    \"e12000006\": \"East of England\",\n",
      "    \"e12000007\": \"London\",\n",
      "    \"e12000001\": \"North East\",\n",
      "    \"e12000002\": \"North West\",\n",
      "    \"e12000008\": \"South East\",\n",
      "    \"e12000009\": \"South West\",\n",
      "    \"e12000005\": \"West Midlands\",\n",
      "    \"e12000003\": \"Yorkshire and The Humber\"\n",
      "}\n"
     ]
    }
   ],
   "source": [
    "# # To update title genration\n",
    "# area_codes_dict = {a['areaCode'].lower(): a['areaName'] for a in area_codes}\n",
    "# print(json.dumps(area_codes_dict, indent=4))"
   ]
  },
  {
   "cell_type": "code",
   "execution_count": 106,
   "metadata": {},
   "outputs": [
    {
     "name": "stdout",
     "output_type": "stream",
     "text": [
      "area_codes length 9\n",
      "area_codes length 8\n"
     ]
    }
   ],
   "source": [
    "area_codes = requests.get('https://api.coronavirus.data.gov.uk/generic/area/region').json()\n",
    "area_codes = [a['areaCode'] for a in area_codes]\n",
    "print('area_codes length', len(area_codes))\n",
    "area_codes.remove('E12000007')\n",
    "print('area_codes length', len(area_codes))"
   ]
  },
  {
   "cell_type": "code",
   "execution_count": 107,
   "metadata": {},
   "outputs": [
    {
     "data": {
      "text/plain": [
       "64"
      ]
     },
     "execution_count": 107,
     "metadata": {},
     "output_type": "execute_result"
    }
   ],
   "source": [
    "# area_codes = ['E12000007']\n",
    "streams = generate_streams(base_streams, area_codes)\n",
    "len(streams)"
   ]
  },
  {
   "cell_type": "code",
   "execution_count": 108,
   "metadata": {},
   "outputs": [],
   "source": [
    "test_endpoints(streams[:10], base_url='')"
   ]
  },
  {
   "cell_type": "code",
   "execution_count": 109,
   "metadata": {},
   "outputs": [],
   "source": [
    "for s in streams:\n",
    "    register(s, token, prod=True)"
   ]
  },
  {
   "cell_type": "code",
   "execution_count": null,
   "metadata": {},
   "outputs": [],
   "source": []
  },
  {
   "cell_type": "code",
   "execution_count": null,
   "metadata": {},
   "outputs": [],
   "source": []
  },
  {
   "cell_type": "code",
   "execution_count": null,
   "metadata": {},
   "outputs": [],
   "source": []
  }
 ],
 "metadata": {
  "kernelspec": {
   "display_name": "Python 3",
   "language": "python",
   "name": "python3"
  },
  "language_info": {
   "codemirror_mode": {
    "name": "ipython",
    "version": 3
   },
   "file_extension": ".py",
   "mimetype": "text/x-python",
   "name": "python",
   "nbconvert_exporter": "python",
   "pygments_lexer": "ipython3",
   "version": "3.8.10"
  },
  "toc": {
   "base_numbering": 1,
   "nav_menu": {},
   "number_sections": false,
   "sideBar": true,
   "skip_h1_title": true,
   "title_cell": "Contents",
   "title_sidebar": "Contents",
   "toc_cell": false,
   "toc_position": {},
   "toc_section_display": true,
   "toc_window_display": false
  }
 },
 "nbformat": 4,
 "nbformat_minor": 5
}
