{
 "cells": [
  {
   "cell_type": "markdown",
   "metadata": {},
   "source": [
    "# Getting data from Public Health England"
   ]
  },
  {
   "cell_type": "code",
   "execution_count": 2,
   "metadata": {},
   "outputs": [
    {
     "name": "stdout",
     "output_type": "stream",
     "text": [
      "The autoreload extension is already loaded. To reload it, use:\n",
      "  %reload_ext autoreload\n"
     ]
    }
   ],
   "source": [
    "import os\n",
    "import sys\n",
    "module_path = os.path.abspath(os.pardir)\n",
    "if module_path not in sys.path:\n",
    "    sys.path.append(module_path)\n",
    "    \n",
    "%load_ext autoreload\n",
    "%autoreload 2"
   ]
  },
  {
   "cell_type": "code",
   "execution_count": 3,
   "metadata": {},
   "outputs": [],
   "source": [
    "import json\n",
    "from collections import Counter\n",
    "from pathlib import Path\n",
    "from urllib import parse\n",
    "import json\n",
    "import requests\n",
    "import pandas as pd\n",
    "\n",
    "from stream import generate_streams, test_endpoints, get_token, register, generate_streams_from_urls"
   ]
  },
  {
   "cell_type": "code",
   "execution_count": 9,
   "metadata": {},
   "outputs": [],
   "source": [
    "def generate_streams(base_streams, codes):\n",
    "    streams = []\n",
    "    for s in base_streams:\n",
    "        for c in codes:\n",
    "            scopy = s.copy()\n",
    "            scopy['endpoint'] = s['endpoint'] + '&areaCode=' + c\n",
    "            scopy['keywords'] = scopy['keywords'] + [c.lower()]\n",
    "            streams.append(scopy)\n",
    "    return streams"
   ]
  },
  {
   "cell_type": "code",
   "execution_count": 4,
   "metadata": {},
   "outputs": [],
   "source": [
    "token = get_token(prod=True)"
   ]
  },
  {
   "cell_type": "markdown",
   "metadata": {},
   "source": [
    "## Nation"
   ]
  },
  {
   "cell_type": "code",
   "execution_count": 14,
   "metadata": {},
   "outputs": [
    {
     "name": "stdout",
     "output_type": "stream",
     "text": [
      "{'urlCode': 'API_GOVUK', 'endpoint': 'https://api.coronavirus.data.gov.uk/v2/data?areaType=nation&metric=cumAdmissions&metric=newAdmissions&format=json', 'dataType': 'timeseries', 'keywords': ['phe', 'nation', 'hospital_admission', 'daily'], 'description': ''}\n"
     ]
    },
    {
     "data": {
      "text/plain": [
       "6"
      ]
     },
     "execution_count": 14,
     "metadata": {},
     "output_type": "execute_result"
    }
   ],
   "source": [
    "with open('../manifest/nation-streams.json') as f:\n",
    "    base_streams = json.load(f)\n",
    "\n",
    "print(base_streams[0])\n",
    "len(base_streams)"
   ]
  },
  {
   "cell_type": "code",
   "execution_count": 11,
   "metadata": {},
   "outputs": [
    {
     "data": {
      "text/plain": [
       "[{'areaCode': 'E92000001', 'areaName': 'England'},\n",
       " {'areaCode': 'N92000002', 'areaName': 'Northern Ireland'},\n",
       " {'areaCode': 'S92000003', 'areaName': 'Scotland'},\n",
       " {'areaCode': 'W92000004', 'areaName': 'Wales'}]"
      ]
     },
     "execution_count": 11,
     "metadata": {},
     "output_type": "execute_result"
    }
   ],
   "source": [
    "requests.get('https://api.coronavirus.data.gov.uk/generic/area/nation').json()"
   ]
  },
  {
   "cell_type": "code",
   "execution_count": 15,
   "metadata": {},
   "outputs": [
    {
     "data": {
      "text/plain": [
       "6"
      ]
     },
     "execution_count": 15,
     "metadata": {},
     "output_type": "execute_result"
    }
   ],
   "source": [
    "area_codes = ['E92000001']\n",
    "streams = generate_streams(base_streams, area_codes)\n",
    "len(streams)"
   ]
  },
  {
   "cell_type": "code",
   "execution_count": 16,
   "metadata": {},
   "outputs": [],
   "source": [
    "test_endpoints(streams, base_url='')"
   ]
  },
  {
   "cell_type": "code",
   "execution_count": 17,
   "metadata": {},
   "outputs": [],
   "source": [
    "for s in streams:\n",
    "    register(s, token, prod=True)"
   ]
  }
 ],
 "metadata": {
  "kernelspec": {
   "display_name": "Python 3",
   "language": "python",
   "name": "python3"
  },
  "language_info": {
   "codemirror_mode": {
    "name": "ipython",
    "version": 3
   },
   "file_extension": ".py",
   "mimetype": "text/x-python",
   "name": "python",
   "nbconvert_exporter": "python",
   "pygments_lexer": "ipython3",
   "version": "3.8.10"
  },
  "toc": {
   "base_numbering": 1,
   "nav_menu": {},
   "number_sections": false,
   "sideBar": true,
   "skip_h1_title": true,
   "title_cell": "Contents",
   "title_sidebar": "Contents",
   "toc_cell": false,
   "toc_position": {},
   "toc_section_display": true,
   "toc_window_display": false
  }
 },
 "nbformat": 4,
 "nbformat_minor": 5
}
