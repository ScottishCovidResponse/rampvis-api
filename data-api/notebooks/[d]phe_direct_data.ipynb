{
 "cells": [
  {
   "cell_type": "markdown",
   "metadata": {},
   "source": [
    "# Getting data from Public Health England"
   ]
  },
  {
   "cell_type": "code",
   "execution_count": 2,
   "metadata": {},
   "outputs": [
    {
     "name": "stdout",
     "output_type": "stream",
     "text": [
      "The autoreload extension is already loaded. To reload it, use:\n",
      "  %reload_ext autoreload\n"
     ]
    }
   ],
   "source": [
    "import os\n",
    "import sys\n",
    "module_path = os.path.abspath(os.pardir)\n",
    "if module_path not in sys.path:\n",
    "    sys.path.append(module_path)\n",
    "    \n",
    "%load_ext autoreload\n",
    "%autoreload 2"
   ]
  },
  {
   "cell_type": "code",
   "execution_count": 3,
   "metadata": {},
   "outputs": [],
   "source": [
    "import json\n",
    "from collections import Counter\n",
    "from pathlib import Path\n",
    "from urllib import parse\n",
    "import json\n",
    "import requests\n",
    "import pandas as pd\n",
    "\n",
    "from stream import generate_streams, test_endpoints, get_token, register, generate_streams_from_urls"
   ]
  },
  {
   "cell_type": "code",
   "execution_count": 4,
   "metadata": {},
   "outputs": [],
   "source": [
    "token = get_token(prod=True)"
   ]
  },
  {
   "cell_type": "markdown",
   "metadata": {},
   "source": [
    "## Nation"
   ]
  },
  {
   "cell_type": "code",
   "execution_count": 7,
   "metadata": {},
   "outputs": [
    {
     "data": {
      "text/html": [
       "<div>\n",
       "<style scoped>\n",
       "    .dataframe tbody tr th:only-of-type {\n",
       "        vertical-align: middle;\n",
       "    }\n",
       "\n",
       "    .dataframe tbody tr th {\n",
       "        vertical-align: top;\n",
       "    }\n",
       "\n",
       "    .dataframe thead th {\n",
       "        text-align: right;\n",
       "    }\n",
       "</style>\n",
       "<table border=\"1\" class=\"dataframe\">\n",
       "  <thead>\n",
       "    <tr style=\"text-align: right;\">\n",
       "      <th></th>\n",
       "      <th>areaCode</th>\n",
       "      <th>areaName</th>\n",
       "      <th>areaType</th>\n",
       "      <th>date</th>\n",
       "      <th>cumAdmissions</th>\n",
       "      <th>cumCasesBySpecimenDate</th>\n",
       "      <th>cumOnsDeathsByRegistrationDate</th>\n",
       "      <th>cumVaccinationFirstDoseUptakeByVaccinationDatePercentage</th>\n",
       "      <th>cumVaccinationSecondDoseUptakeByVaccinationDatePercentage</th>\n",
       "    </tr>\n",
       "  </thead>\n",
       "  <tbody>\n",
       "    <tr>\n",
       "      <th>0</th>\n",
       "      <td>E92000001</td>\n",
       "      <td>England</td>\n",
       "      <td>nation</td>\n",
       "      <td>2022-01-12</td>\n",
       "      <td>NaN</td>\n",
       "      <td>12680151</td>\n",
       "      <td>NaN</td>\n",
       "      <td>79.4</td>\n",
       "      <td>73.3</td>\n",
       "    </tr>\n",
       "    <tr>\n",
       "      <th>1</th>\n",
       "      <td>E92000001</td>\n",
       "      <td>England</td>\n",
       "      <td>nation</td>\n",
       "      <td>2022-01-11</td>\n",
       "      <td>566587.0</td>\n",
       "      <td>12644933</td>\n",
       "      <td>NaN</td>\n",
       "      <td>79.3</td>\n",
       "      <td>73.3</td>\n",
       "    </tr>\n",
       "    <tr>\n",
       "      <th>2</th>\n",
       "      <td>E92000001</td>\n",
       "      <td>England</td>\n",
       "      <td>nation</td>\n",
       "      <td>2022-01-10</td>\n",
       "      <td>564460.0</td>\n",
       "      <td>12564255</td>\n",
       "      <td>NaN</td>\n",
       "      <td>79.3</td>\n",
       "      <td>73.2</td>\n",
       "    </tr>\n",
       "    <tr>\n",
       "      <th>3</th>\n",
       "      <td>E92000001</td>\n",
       "      <td>England</td>\n",
       "      <td>nation</td>\n",
       "      <td>2022-01-09</td>\n",
       "      <td>562280.0</td>\n",
       "      <td>12465313</td>\n",
       "      <td>NaN</td>\n",
       "      <td>79.3</td>\n",
       "      <td>73.2</td>\n",
       "    </tr>\n",
       "    <tr>\n",
       "      <th>4</th>\n",
       "      <td>E92000001</td>\n",
       "      <td>England</td>\n",
       "      <td>nation</td>\n",
       "      <td>2022-01-08</td>\n",
       "      <td>560305.0</td>\n",
       "      <td>12392677</td>\n",
       "      <td>NaN</td>\n",
       "      <td>79.3</td>\n",
       "      <td>73.2</td>\n",
       "    </tr>\n",
       "    <tr>\n",
       "      <th>...</th>\n",
       "      <td>...</td>\n",
       "      <td>...</td>\n",
       "      <td>...</td>\n",
       "      <td>...</td>\n",
       "      <td>...</td>\n",
       "      <td>...</td>\n",
       "      <td>...</td>\n",
       "      <td>...</td>\n",
       "      <td>...</td>\n",
       "    </tr>\n",
       "    <tr>\n",
       "      <th>709</th>\n",
       "      <td>E92000001</td>\n",
       "      <td>England</td>\n",
       "      <td>nation</td>\n",
       "      <td>2020-02-03</td>\n",
       "      <td>NaN</td>\n",
       "      <td>2</td>\n",
       "      <td>NaN</td>\n",
       "      <td>NaN</td>\n",
       "      <td>NaN</td>\n",
       "    </tr>\n",
       "    <tr>\n",
       "      <th>710</th>\n",
       "      <td>E92000001</td>\n",
       "      <td>England</td>\n",
       "      <td>nation</td>\n",
       "      <td>2020-02-02</td>\n",
       "      <td>NaN</td>\n",
       "      <td>2</td>\n",
       "      <td>NaN</td>\n",
       "      <td>NaN</td>\n",
       "      <td>NaN</td>\n",
       "    </tr>\n",
       "    <tr>\n",
       "      <th>711</th>\n",
       "      <td>E92000001</td>\n",
       "      <td>England</td>\n",
       "      <td>nation</td>\n",
       "      <td>2020-02-01</td>\n",
       "      <td>NaN</td>\n",
       "      <td>2</td>\n",
       "      <td>NaN</td>\n",
       "      <td>NaN</td>\n",
       "      <td>NaN</td>\n",
       "    </tr>\n",
       "    <tr>\n",
       "      <th>712</th>\n",
       "      <td>E92000001</td>\n",
       "      <td>England</td>\n",
       "      <td>nation</td>\n",
       "      <td>2020-01-31</td>\n",
       "      <td>NaN</td>\n",
       "      <td>2</td>\n",
       "      <td>NaN</td>\n",
       "      <td>NaN</td>\n",
       "      <td>NaN</td>\n",
       "    </tr>\n",
       "    <tr>\n",
       "      <th>713</th>\n",
       "      <td>E92000001</td>\n",
       "      <td>England</td>\n",
       "      <td>nation</td>\n",
       "      <td>2020-01-30</td>\n",
       "      <td>NaN</td>\n",
       "      <td>2</td>\n",
       "      <td>NaN</td>\n",
       "      <td>NaN</td>\n",
       "      <td>NaN</td>\n",
       "    </tr>\n",
       "  </tbody>\n",
       "</table>\n",
       "<p>714 rows × 9 columns</p>\n",
       "</div>"
      ],
      "text/plain": [
       "      areaCode areaName areaType        date  cumAdmissions  \\\n",
       "0    E92000001  England   nation  2022-01-12            NaN   \n",
       "1    E92000001  England   nation  2022-01-11       566587.0   \n",
       "2    E92000001  England   nation  2022-01-10       564460.0   \n",
       "3    E92000001  England   nation  2022-01-09       562280.0   \n",
       "4    E92000001  England   nation  2022-01-08       560305.0   \n",
       "..         ...      ...      ...         ...            ...   \n",
       "709  E92000001  England   nation  2020-02-03            NaN   \n",
       "710  E92000001  England   nation  2020-02-02            NaN   \n",
       "711  E92000001  England   nation  2020-02-01            NaN   \n",
       "712  E92000001  England   nation  2020-01-31            NaN   \n",
       "713  E92000001  England   nation  2020-01-30            NaN   \n",
       "\n",
       "     cumCasesBySpecimenDate  cumOnsDeathsByRegistrationDate  \\\n",
       "0                  12680151                             NaN   \n",
       "1                  12644933                             NaN   \n",
       "2                  12564255                             NaN   \n",
       "3                  12465313                             NaN   \n",
       "4                  12392677                             NaN   \n",
       "..                      ...                             ...   \n",
       "709                       2                             NaN   \n",
       "710                       2                             NaN   \n",
       "711                       2                             NaN   \n",
       "712                       2                             NaN   \n",
       "713                       2                             NaN   \n",
       "\n",
       "     cumVaccinationFirstDoseUptakeByVaccinationDatePercentage  \\\n",
       "0                                                 79.4          \n",
       "1                                                 79.3          \n",
       "2                                                 79.3          \n",
       "3                                                 79.3          \n",
       "4                                                 79.3          \n",
       "..                                                 ...          \n",
       "709                                                NaN          \n",
       "710                                                NaN          \n",
       "711                                                NaN          \n",
       "712                                                NaN          \n",
       "713                                                NaN          \n",
       "\n",
       "     cumVaccinationSecondDoseUptakeByVaccinationDatePercentage  \n",
       "0                                                 73.3          \n",
       "1                                                 73.3          \n",
       "2                                                 73.2          \n",
       "3                                                 73.2          \n",
       "4                                                 73.2          \n",
       "..                                                 ...          \n",
       "709                                                NaN          \n",
       "710                                                NaN          \n",
       "711                                                NaN          \n",
       "712                                                NaN          \n",
       "713                                                NaN          \n",
       "\n",
       "[714 rows x 9 columns]"
      ]
     },
     "execution_count": 7,
     "metadata": {},
     "output_type": "execute_result"
    }
   ],
   "source": [
    "url = 'https://api.coronavirus.data.gov.uk/v2/data?areaType=nation&areaCode=E92000001&metric=cumAdmissions&metric=cumCasesBySpecimenDate&metric=cumOnsDeathsByRegistrationDate&metric=cumVaccinationFirstDoseUptakeByVaccinationDatePercentage&metric=cumVaccinationSecondDoseUptakeByVaccinationDatePercentage&format=csv'\n",
    "pd.read_csv(url)\n"
   ]
  },
  {
   "cell_type": "markdown",
   "metadata": {},
   "source": [
    "## LTLA\n",
    "### 1. All areas together"
   ]
  },
  {
   "cell_type": "code",
   "execution_count": 3,
   "metadata": {},
   "outputs": [
    {
     "data": {
      "text/plain": [
       "1"
      ]
     },
     "execution_count": 3,
     "metadata": {},
     "output_type": "execute_result"
    }
   ],
   "source": [
    "with open('../manifest/all-ltla-streams.json') as f:\n",
    "    all_ltla_streams = json.load(f)\n",
    "\n",
    "len(all_ltla_streams)"
   ]
  },
  {
   "cell_type": "code",
   "execution_count": 7,
   "metadata": {},
   "outputs": [],
   "source": [
    "test_endpoints(all_ltla_streams, base_url='')"
   ]
  },
  {
   "cell_type": "code",
   "execution_count": 8,
   "metadata": {},
   "outputs": [],
   "source": [
    "for s in all_ltla_streams:\n",
    "    register(s, token, prod=True)"
   ]
  },
  {
   "cell_type": "markdown",
   "metadata": {},
   "source": [
    "### 2. Individual areas"
   ]
  },
  {
   "cell_type": "code",
   "execution_count": 9,
   "metadata": {},
   "outputs": [
    {
     "name": "stdout",
     "output_type": "stream",
     "text": [
      "{'urlCode': 'API_GOVUK', 'endpoint': 'https://api.coronavirus.data.gov.uk/v2/data?areaType=ltla&metric=vaccinationsAgeDemographics&format=json', 'dataType': 'timeseries', 'keywords': ['phe', 'ltla', 'vaccination', 'daily'], 'description': ''}\n"
     ]
    },
    {
     "data": {
      "text/plain": [
       "1"
      ]
     },
     "execution_count": 9,
     "metadata": {},
     "output_type": "execute_result"
    }
   ],
   "source": [
    "with open('../manifest/ltla-streams.json') as f:\n",
    "    ltla_base_streams = json.load(f)\n",
    "\n",
    "print(ltla_base_streams[0])\n",
    "len(ltla_base_streams)"
   ]
  },
  {
   "cell_type": "code",
   "execution_count": 11,
   "metadata": {},
   "outputs": [],
   "source": [
    "def generate_streams(base_streams, codes):\n",
    "    streams = []\n",
    "    for s in base_streams:\n",
    "        for c in codes:\n",
    "            scopy = s.copy()\n",
    "            scopy['endpoint'] = s['endpoint'] + '&areaCode=' + c\n",
    "            scopy['keywords'] = scopy['keywords'] + [c.lower()]\n",
    "            streams.append(scopy)\n",
    "    return streams"
   ]
  },
  {
   "cell_type": "code",
   "execution_count": 12,
   "metadata": {},
   "outputs": [
    {
     "data": {
      "text/plain": [
       "1"
      ]
     },
     "execution_count": 12,
     "metadata": {},
     "output_type": "execute_result"
    }
   ],
   "source": [
    "ltla_area_codes = ['S12000036']\n",
    "ltla_streams = generate_streams(ltla_base_streams, ltla_area_codes)\n",
    "len(ltla_streams)"
   ]
  },
  {
   "cell_type": "code",
   "execution_count": 13,
   "metadata": {},
   "outputs": [],
   "source": [
    "test_endpoints(ltla_streams, base_url='')"
   ]
  },
  {
   "cell_type": "code",
   "execution_count": 16,
   "metadata": {},
   "outputs": [],
   "source": [
    "for s in ltla_streams:\n",
    "    register(s, token, prod=True)"
   ]
  }
 ],
 "metadata": {
  "kernelspec": {
   "display_name": "Python 3",
   "language": "python",
   "name": "python3"
  },
  "language_info": {
   "codemirror_mode": {
    "name": "ipython",
    "version": 3
   },
   "file_extension": ".py",
   "mimetype": "text/x-python",
   "name": "python",
   "nbconvert_exporter": "python",
   "pygments_lexer": "ipython3",
   "version": "3.8.10"
  },
  "toc": {
   "base_numbering": 1,
   "nav_menu": {},
   "number_sections": false,
   "sideBar": true,
   "skip_h1_title": true,
   "title_cell": "Contents",
   "title_sidebar": "Contents",
   "toc_cell": false,
   "toc_position": {},
   "toc_section_display": true,
   "toc_window_display": false
  }
 },
 "nbformat": 4,
 "nbformat_minor": 5
}
