{
 "cells": [
  {
   "cell_type": "markdown",
   "id": "modern-packet",
   "metadata": {},
   "source": [
    "# Getting data from Public Health England\n",
    "https://github.com/ScottishCovidResponse/scrc-vis-analytical/tree/master/ClusteringAndImpactAnalysis/data"
   ]
  },
  {
   "cell_type": "code",
   "execution_count": 8,
   "id": "occasional-gallery",
   "metadata": {},
   "outputs": [
    {
     "name": "stdout",
     "output_type": "stream",
     "text": [
      "The autoreload extension is already loaded. To reload it, use:\n",
      "  %reload_ext autoreload\n"
     ]
    }
   ],
   "source": [
    "import os\n",
    "import sys\n",
    "import json\n",
    "\n",
    "module_path = os.path.abspath(os.pardir)\n",
    "if module_path not in sys.path:\n",
    "    sys.path.append(module_path)\n",
    "    \n",
    "%load_ext autoreload\n",
    "%autoreload 2"
   ]
  },
  {
   "cell_type": "code",
   "execution_count": 3,
   "id": "8b25e792-ae76-4c08-8780-84c0640a0626",
   "metadata": {},
   "outputs": [],
   "source": [
    "from pathlib import Path\n",
    "from urllib import parse\n",
    "import json\n",
    "import requests\n",
    "\n",
    "import pandas as pd\n",
    "\n",
    "from stream import generate_streams, test_endpoints, get_token, register, generate_streams_from_urls"
   ]
  },
  {
   "cell_type": "markdown",
   "id": "05f80b5e-f504-4483-983e-2fa483cd0da3",
   "metadata": {},
   "source": [
    "## Generate elements for urls.json"
   ]
  },
  {
   "cell_type": "code",
   "execution_count": 101,
   "id": "1eb26c81-7ab2-4c0f-9c34-16cdfe4ed840",
   "metadata": {},
   "outputs": [],
   "source": [
    "# uk_cumAdmissions = \"https://api.coronavirus.data.gov.uk/v2/data?areaType=overview&metric=cumAdmissions&format=csv\"\n",
    "# uk_cumCasesBySpecimenDate = \"https://api.coronavirus.data.gov.uk/v2/data?areaType=overview&metric=cumCasesBySpecimenDate&format=csv\"\n",
    "# uk_cumDeaths28DaysByDeathDate = \"https://api.coronavirus.data.gov.uk/v2/data?areaType=overview&metric=cumDeaths28DaysByDeathDate&format=csv\"\n",
    "# uk_cumPeopleVaccinatedFirstDoseByPublishDate = \"https://api.coronavirus.data.gov.uk/v2/data?areaType=overview&metric=cumPeopleVaccinatedFirstDoseByPublishDate&format=csv\"\n",
    "# uk_cumPeopleVaccinatedSecondDoseByPublishDate = \"https://api.coronavirus.data.gov.uk/v2/data?areaType=overview&metric=cumPeopleVaccinatedSecondDoseByPublishDate&format=csv\"\n",
    "# uk_cumPeopleVaccinatedThirdInjectionByPublishDate = \"https://api.coronavirus.data.gov.uk/v2/data?areaType=overview&metric=cumPeopleVaccinatedThirdInjectionByPublishDate&format=csv\"\n",
    "# uk_newAdmissions = \"https://api.coronavirus.data.gov.uk/v2/data?areaType=overview&metric=newAdmissions&format=csv\"\n",
    "# uk_newCasesBySpecimenDate = \"https://api.coronavirus.data.gov.uk/v2/data?areaType=overview&metric=newCasesBySpecimenDate&format=csv\"\n",
    "# uk_newDeaths28DaysByDeathDate = \"https://api.coronavirus.data.gov.uk/v2/data?areaType=overview&metric=newDeaths28DaysByDeathDate&format=csv\"\n",
    "# uk_newPeopleVaccinatedFirstDoseByPublishDate = \"https://api.coronavirus.data.gov.uk/v2/data?areaType=overview&metric=newPeopleVaccinatedFirstDoseByPublishDate&format=csv\"\n",
    "# uk_newPeopleVaccinatedSecondDoseByPublishDate = \"https://api.coronavirus.data.gov.uk/v2/data?areaType=overview&metric=newPeopleVaccinatedSecondDoseByPublishDate&format=csv\"\n",
    "# uk_newPeopleVaccinatedThirdInjectionByPublishDate = \"https://api.coronavirus.data.gov.uk/v2/data?areaType=overview&metric=newPeopleVaccinatedThirdInjectionByPublishDate&format=csv\"\n",
    "\n",
    "# ltla_cases = \"https://api.coronavirus.data.gov.uk/v2/data?areaType=ltla&areaCode=S12000036&metric=cumCasesBySpecimenDate&metric=newCasesBySpecimenDate&format=csv\"\n",
    "# ltla_deaths = \"https://api.coronavirus.data.gov.uk/v2/data?areaType=ltla&areaCode=S12000036&metric=cumWeeklyNsoDeathsByRegDate&metric=newWeeklyNsoDeathsByRegDate&format=csv\"\n",
    "# ltla_vaccination = \"https://api.coronavirus.data.gov.uk/v2/data?areaType=ltla&areaCode=S12000036&metric=cumVaccinationFirstDoseUptakeByVaccinationDatePercentage&metric=cumVaccinationSecondDoseUptakeByVaccinationDatePercentage&format=csv\"\n",
    "# ltla_vaccinationAgeDemographics = \"https://api.coronavirus.data.gov.uk/v2/data?areaType=ltla&areaCode=S12000036&metric=vaccinationsAgeDemographics&format=csv\"\n",
    "\n",
    "# msoa_newCasesBySpecimenDateRollingSum = \"https://api.coronavirus.data.gov.uk/v2/data?areaType=msoa&areaCode=E02000961&metric=newCasesBySpecimenDateRollingSum&format=csv\"\n",
    "# msoa_newCasesBySpecimenDateRollingRate = \"https://api.coronavirus.data.gov.uk/v2/data?areaType=msoa&areaCode=E02000961&metric=newCasesBySpecimenDateRollingRate&format=csv\"\n",
    "# msoa_newCasesBySpecimenDateChangePercentage = \"https://api.coronavirus.data.gov.uk/v2/data?areaType=msoa&areaCode=E02000961&metric=newCasesBySpecimenDateChangePercentage&format=csv\"\n",
    "# msoa_cumVaccinationFirstDoseUptakeByVaccinationDatePercentage = \"https://api.coronavirus.data.gov.uk/v2/data?areaType=msoa&areaCode=E02000961&metric=cumVaccinationFirstDoseUptakeByVaccinationDatePercentage&format=csv\"\n",
    "# msoa_cumVaccinationSecondDoseUptakeByVaccinationDatePercentage = \"https://api.coronavirus.data.gov.uk/v2/data?areaType=msoa&areaCode=E02000961&metric=cumVaccinationSecondDoseUptakeByVaccinationDatePercentage&format=csv\""
   ]
  },
  {
   "cell_type": "code",
   "execution_count": 6,
   "id": "68909296-ceb5-4c45-996e-aaab1a5b6af5",
   "metadata": {},
   "outputs": [],
   "source": [
    "urls = [\n",
    "    \"https://api.coronavirus.data.gov.uk/v2/data?areaType=msoa&areaCode=E02000961&metric=newCasesBySpecimenDateRollingSum&format=csv\",\n",
    "    \"https://api.coronavirus.data.gov.uk/v2/data?areaType=msoa&areaCode=E02000961&metric=newCasesBySpecimenDateRollingRate&format=csv\",\n",
    "    \"https://api.coronavirus.data.gov.uk/v2/data?areaType=msoa&areaCode=E02000961&metric=newCasesBySpecimenDateChangePercentage&format=csv\",\n",
    "    \"https://api.coronavirus.data.gov.uk/v2/data?areaType=msoa&areaCode=E02000961&metric=cumVaccinationFirstDoseUptakeByVaccinationDatePercentage&format=csv\",\n",
    "    \"https://api.coronavirus.data.gov.uk/v2/data?areaType=msoa&areaCode=E02000961&metric=cumVaccinationSecondDoseUptakeByVaccinationDatePercentage&format=csv\"\n",
    "]"
   ]
  },
  {
   "cell_type": "code",
   "execution_count": 7,
   "id": "957d2fe5-3520-41b9-84e9-87edea4e8b2e",
   "metadata": {},
   "outputs": [],
   "source": [
    "template = {\n",
    "    \"name\": \"phe\",\n",
    "    \"url\": \"https://api.coronavirus.data.gov.uk/v2/data?areaType=overview&metric=cumAdmissions&format=csv\",\n",
    "    \"save_to\": \"phe/cumAdmissions.csv\",\n",
    "    \"dataType\": \"cum_timeseries\",\n",
    "    \"keywords\": [\"phe\", \"msoa\", \"hospital_admission\", \"daily\"]\n",
    "}"
   ]
  },
  {
   "cell_type": "code",
   "execution_count": null,
   "id": "44f6e30e-2bd7-4e7a-9da7-328112ed710b",
   "metadata": {},
   "outputs": [],
   "source": [
    "for url in urls:\n",
    "    d = template.copy()\n",
    "    d['url'] = url\n",
    "    d['save_to'] = f'phe/{dict(parse.parse_qsl(parse.urlsplit(url).query))[\"metric\"]}.csv'\n",
    "    print(json.dumps(d, indent=4))"
   ]
  },
  {
   "cell_type": "markdown",
   "id": "6336a81d-fdcf-4deb-9d16-102200d2c790",
   "metadata": {},
   "source": [
    "## Data streams"
   ]
  },
  {
   "cell_type": "code",
   "execution_count": 10,
   "id": "32f6d8cd-932c-4180-bdbd-4678cd287b2c",
   "metadata": {},
   "outputs": [
    {
     "name": "stdout",
     "output_type": "stream",
     "text": [
      "{'urlCode': 'API_PY', 'endpoint': '/data/?product=phe/overview&component=cumAdmissions&format=long', 'dataType': 'cum_timeseries', 'keywords': ['phe', 'uk', 'hospital_admission', 'daily'], 'description': ''}\n"
     ]
    },
    {
     "data": {
      "text/plain": [
       "21"
      ]
     },
     "execution_count": 10,
     "metadata": {},
     "output_type": "execute_result"
    }
   ],
   "source": [
    "with open('../manifest/urls.json') as f:\n",
    "    urls = json.load(f)\n",
    "    urls = [url for url in urls if url['name'] == 'phe']\n",
    "\n",
    "streams = generate_streams_from_urls(urls)\n",
    "print(streams[0])\n",
    "len(streams)"
   ]
  },
  {
   "cell_type": "markdown",
   "id": "2f34c3f2-174a-4174-b6a4-50b79fbfa681",
   "metadata": {},
   "source": [
    "### UK"
   ]
  },
  {
   "cell_type": "code",
   "execution_count": 28,
   "id": "272dd8d3-1df1-45db-afa1-aadd8e7c66f2",
   "metadata": {},
   "outputs": [
    {
     "data": {
      "text/plain": [
       "12"
      ]
     },
     "execution_count": 28,
     "metadata": {},
     "output_type": "execute_result"
    }
   ],
   "source": [
    "uk_streams = [s for s in streams if 'uk' in s['keywords']]\n",
    "len(uk_streams)"
   ]
  },
  {
   "cell_type": "markdown",
   "id": "afe09c22-5750-4ac5-b95e-d807db483d91",
   "metadata": {},
   "source": [
    "### LTLA"
   ]
  },
  {
   "cell_type": "code",
   "execution_count": 5,
   "id": "7a5dca7f-2f15-4930-af5b-822225c9c42f",
   "metadata": {},
   "outputs": [
    {
     "data": {
      "text/plain": [
       "4"
      ]
     },
     "execution_count": 5,
     "metadata": {},
     "output_type": "execute_result"
    }
   ],
   "source": [
    "ltla_streams = [s for s in streams if 'ltla' in s['keywords']]\n",
    "len(ltla_streams)"
   ]
  },
  {
   "cell_type": "markdown",
   "id": "689ad2b1-5f0d-4c08-af8e-d29bca0a7a64",
   "metadata": {},
   "source": [
    "Get all area codes, it can be done from API but only select the codes that have all data using downloaded data."
   ]
  },
  {
   "cell_type": "code",
   "execution_count": 8,
   "id": "d0276d90-5933-4c48-bdc7-7510af22cd8c",
   "metadata": {},
   "outputs": [
    {
     "data": {
      "text/plain": [
       "({'urlCode': 'API_PY',\n",
       "  'endpoint': '/data/?product=phe/ltla/s12000041&component=newCasesBySpecimenDate&format=long',\n",
       "  'dataType': 'timeseries',\n",
       "  'keywords': ['phe', 'ltla', 'new_cases', 'daily', 's12000041'],\n",
       "  'description': ''},\n",
       " 1344)"
      ]
     },
     "execution_count": 8,
     "metadata": {},
     "output_type": "execute_result"
    }
   ],
   "source": [
    "area_code_ltla_streams = []\n",
    "n_expected_files = len(ltla_streams)\n",
    "for p in Path('../../data/live/phe/ltla/').iterdir():\n",
    "    if len(list(p.glob('*.csv'))) == n_expected_files:\n",
    "        for s in ltla_streams:\n",
    "            scopy = s.copy()\n",
    "            scopy['endpoint'] = s['endpoint'].replace('phe/ltla', 'phe/ltla/' + p.name)\n",
    "            scopy['keywords'] = scopy['keywords'] + [p.name]\n",
    "            area_code_ltla_streams.append(scopy)\n",
    "area_code_ltla_streams[0], len(area_code_ltla_streams)"
   ]
  },
  {
   "cell_type": "markdown",
   "id": "68406fed-4773-4f26-9d4b-6c1d4591c8e7",
   "metadata": {},
   "source": [
    "### MSOA"
   ]
  },
  {
   "cell_type": "code",
   "execution_count": 11,
   "id": "5a38b0a1-9a2c-4662-8388-b8f628b132e2",
   "metadata": {},
   "outputs": [
    {
     "data": {
      "text/plain": [
       "5"
      ]
     },
     "execution_count": 11,
     "metadata": {},
     "output_type": "execute_result"
    }
   ],
   "source": [
    "msoa_streams = [s for s in streams if 'msoa' in s['keywords']]\n",
    "len(msoa_streams)"
   ]
  },
  {
   "cell_type": "code",
   "execution_count": 114,
   "id": "2b088813-8373-4399-a2b6-fa67f4bfdde5",
   "metadata": {},
   "outputs": [],
   "source": [
    "test_endpoints(area_code_ltla_streams[:100])"
   ]
  },
  {
   "cell_type": "code",
   "execution_count": 95,
   "id": "d196e005-e9b1-4e73-972f-99469693f271",
   "metadata": {},
   "outputs": [],
   "source": [
    "for s in area_code_ltla_streams:\n",
    "    register(s, token, prod=True)"
   ]
  },
  {
   "cell_type": "code",
   "execution_count": null,
   "id": "80f50bcc-e00f-4831-ad38-72fce0975e82",
   "metadata": {},
   "outputs": [],
   "source": [
    "# # To update title genration\n",
    "# area_codes = requests.get('https://api.coronavirus.data.gov.uk/generic/area/msoa').json()\n",
    "# area_codes_dict = {a['areaCode'].lower(): a['areaName'] for a in area_codes}\n",
    "# print(json.dumps(area_codes_dict, indent=4))"
   ]
  },
  {
   "cell_type": "markdown",
   "id": "7acc7774-4c9b-4e01-9ed8-95cde9522667",
   "metadata": {},
   "source": [
    "---\n",
    "## Playground"
   ]
  },
  {
   "cell_type": "code",
   "execution_count": 69,
   "id": "11b00e9c-c8ef-4555-8e27-c9793eb38c18",
   "metadata": {},
   "outputs": [],
   "source": [
    "# age\n",
    "age_case_url = 'https://api.coronavirus.data.gov.uk/v2/data?areaType=region&metric=newCasesBySpecimenDateAgeDemographics&format=csv'\n",
    "age_death_url = 'https://api.coronavirus.data.gov.uk/v2/data?areaType=region&metric=newDeaths28DaysByDeathDateAgeDemographics&format=csv'\n",
    "age_vaccine_url = 'https://api.coronavirus.data.gov.uk/v2/data?areaType=region&metric=vaccinationsAgeDemographics&format=csv'\n",
    "\n",
    "# new cases & deaths\n",
    "case_death_url = 'https://api.coronavirus.data.gov.uk/v2/data?areaType=region&metric=newCasesByPublishDate&metric=newDeaths28DaysByPublishDate&format=csv'\n",
    "\n",
    "# vaccine\n",
    "vaccine_url = 'https://api.coronavirus.data.gov.uk/v2/data?areaType=region&metric=cumPeopleVaccinatedFirstDoseByVaccinationDate&metric=cumPeopleVaccinatedSecondDoseByVaccinationDate&metric=cumVaccinationFirstDoseUptakeByVaccinationDatePercentage&metric=cumVaccinationSecondDoseUptakeByVaccinationDatePercentage&format=csv'"
   ]
  },
  {
   "cell_type": "code",
   "execution_count": 15,
   "id": "751e5a60-cdb5-4b7b-aec6-29b7a1e6353c",
   "metadata": {},
   "outputs": [],
   "source": [
    "url_one = 'https://api.coronavirus.data.gov.uk/v2/data?areaType=ltla&areaCode=S12000036&metric=cumCasesBySpecimenDate&metric=newCasesBySpecimenDate&format=csv'\n",
    "url_full = 'https://api.coronavirus.data.gov.uk/v2/data?areaType=ltla&metric=cumCasesBySpecimenDate&metric=newCasesBySpecimenDate&format=csv'"
   ]
  }
 ],
 "metadata": {
  "kernelspec": {
   "display_name": "ramp-vis-api",
   "language": "python",
   "name": "ramp-vis-api"
  },
  "language_info": {
   "codemirror_mode": {
    "name": "ipython",
    "version": 3
   },
   "file_extension": ".py",
   "mimetype": "text/x-python",
   "name": "python",
   "nbconvert_exporter": "python",
   "pygments_lexer": "ipython3",
   "version": "3.8.3"
  },
  "toc": {
   "base_numbering": 1,
   "nav_menu": {},
   "number_sections": false,
   "sideBar": true,
   "skip_h1_title": true,
   "title_cell": "Contents",
   "title_sidebar": "Contents",
   "toc_cell": false,
   "toc_position": {},
   "toc_section_display": true,
   "toc_window_display": false
  }
 },
 "nbformat": 4,
 "nbformat_minor": 5
}
