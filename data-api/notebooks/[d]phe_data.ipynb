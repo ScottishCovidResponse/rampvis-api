{
 "cells": [
  {
   "cell_type": "markdown",
   "metadata": {},
   "source": [
    "# Getting data from Public Health England\n",
    "https://github.com/ScottishCovidResponse/scrc-vis-analytical/tree/master/ClusteringAndImpactAnalysis/data"
   ]
  },
  {
   "cell_type": "code",
   "execution_count": 1,
   "metadata": {},
   "outputs": [
    {
     "name": "stdout",
     "output_type": "stream",
     "text": [
      "The autoreload extension is already loaded. To reload it, use:\n",
      "  %reload_ext autoreload\n"
     ]
    }
   ],
   "source": [
    "import os\n",
    "import sys\n",
    "import json\n",
    "from collections import Counter\n",
    "\n",
    "module_path = os.path.abspath(os.pardir)\n",
    "if module_path not in sys.path:\n",
    "    sys.path.append(module_path)\n",
    "    \n",
    "%load_ext autoreload\n",
    "%autoreload 2"
   ]
  },
  {
   "cell_type": "code",
   "execution_count": 2,
   "metadata": {},
   "outputs": [],
   "source": [
    "from pathlib import Path\n",
    "from urllib import parse\n",
    "import json\n",
    "import requests\n",
    "\n",
    "import pandas as pd\n",
    "\n",
    "from stream import generate_streams, test_endpoints, get_token, register, generate_streams_from_urls"
   ]
  },
  {
   "cell_type": "markdown",
   "metadata": {},
   "source": [
    "## Generate elements for urls.json"
   ]
  },
  {
   "cell_type": "code",
   "execution_count": 3,
   "metadata": {},
   "outputs": [],
   "source": [
    "# uk_cumAdmissions = \"https://api.coronavirus.data.gov.uk/v2/data?areaType=overview&metric=cumAdmissions&format=csv\"\n",
    "# uk_cumCasesBySpecimenDate = \"https://api.coronavirus.data.gov.uk/v2/data?areaType=overview&metric=cumCasesBySpecimenDate&format=csv\"\n",
    "# uk_cumDeaths28DaysByDeathDate = \"https://api.coronavirus.data.gov.uk/v2/data?areaType=overview&metric=cumDeaths28DaysByDeathDate&format=csv\"\n",
    "# uk_cumPeopleVaccinatedFirstDoseByPublishDate = \"https://api.coronavirus.data.gov.uk/v2/data?areaType=overview&metric=cumPeopleVaccinatedFirstDoseByPublishDate&format=csv\"\n",
    "# uk_cumPeopleVaccinatedSecondDoseByPublishDate = \"https://api.coronavirus.data.gov.uk/v2/data?areaType=overview&metric=cumPeopleVaccinatedSecondDoseByPublishDate&format=csv\"\n",
    "# uk_cumPeopleVaccinatedThirdInjectionByPublishDate = \"https://api.coronavirus.data.gov.uk/v2/data?areaType=overview&metric=cumPeopleVaccinatedThirdInjectionByPublishDate&format=csv\"\n",
    "# uk_newAdmissions = \"https://api.coronavirus.data.gov.uk/v2/data?areaType=overview&metric=newAdmissions&format=csv\"\n",
    "# uk_newCasesBySpecimenDate = \"https://api.coronavirus.data.gov.uk/v2/data?areaType=overview&metric=newCasesBySpecimenDate&format=csv\"\n",
    "# uk_newDeaths28DaysByDeathDate = \"https://api.coronavirus.data.gov.uk/v2/data?areaType=overview&metric=newDeaths28DaysByDeathDate&format=csv\"\n",
    "# uk_newPeopleVaccinatedFirstDoseByPublishDate = \"https://api.coronavirus.data.gov.uk/v2/data?areaType=overview&metric=newPeopleVaccinatedFirstDoseByPublishDate&format=csv\"\n",
    "# uk_newPeopleVaccinatedSecondDoseByPublishDate = \"https://api.coronavirus.data.gov.uk/v2/data?areaType=overview&metric=newPeopleVaccinatedSecondDoseByPublishDate&format=csv\"\n",
    "# uk_newPeopleVaccinatedThirdInjectionByPublishDate = \"https://api.coronavirus.data.gov.uk/v2/data?areaType=overview&metric=newPeopleVaccinatedThirdInjectionByPublishDate&format=csv\"\n",
    "\n",
    "# ltla_cases = \"https://api.coronavirus.data.gov.uk/v2/data?areaType=ltla&areaCode=S12000036&metric=cumCasesBySpecimenDate&metric=newCasesBySpecimenDate&format=csv\"\n",
    "# ltla_deaths = \"https://api.coronavirus.data.gov.uk/v2/data?areaType=ltla&areaCode=S12000036&metric=cumWeeklyNsoDeathsByRegDate&metric=newWeeklyNsoDeathsByRegDate&format=csv\"\n",
    "# ltla_vaccination = \"https://api.coronavirus.data.gov.uk/v2/data?areaType=ltla&areaCode=S12000036&metric=cumVaccinationFirstDoseUptakeByVaccinationDatePercentage&metric=cumVaccinationSecondDoseUptakeByVaccinationDatePercentage&format=csv\"\n",
    "# ltla_vaccinationAgeDemographics = \"https://api.coronavirus.data.gov.uk/v2/data?areaType=ltla&areaCode=S12000036&metric=vaccinationsAgeDemographics&format=csv\"\n",
    "\n",
    "# msoa_newCasesBySpecimenDateRollingSum = \"https://api.coronavirus.data.gov.uk/v2/data?areaType=msoa&areaCode=E02000961&metric=newCasesBySpecimenDateRollingSum&format=csv\"\n",
    "# msoa_newCasesBySpecimenDateRollingRate = \"https://api.coronavirus.data.gov.uk/v2/data?areaType=msoa&areaCode=E02000961&metric=newCasesBySpecimenDateRollingRate&format=csv\"\n",
    "# msoa_newCasesBySpecimenDateChangePercentage = \"https://api.coronavirus.data.gov.uk/v2/data?areaType=msoa&areaCode=E02000961&metric=newCasesBySpecimenDateChangePercentage&format=csv\"\n",
    "# msoa_cumVaccinationFirstDoseUptakeByVaccinationDatePercentage = \"https://api.coronavirus.data.gov.uk/v2/data?areaType=msoa&areaCode=E02000961&metric=cumVaccinationFirstDoseUptakeByVaccinationDatePercentage&format=csv\"\n",
    "# msoa_cumVaccinationSecondDoseUptakeByVaccinationDatePercentage = \"https://api.coronavirus.data.gov.uk/v2/data?areaType=msoa&areaCode=E02000961&metric=cumVaccinationSecondDoseUptakeByVaccinationDatePercentage&format=csv\""
   ]
  },
  {
   "cell_type": "code",
   "execution_count": 4,
   "metadata": {},
   "outputs": [],
   "source": [
    "urls = [\n",
    "    \"https://api.coronavirus.data.gov.uk/v2/data?areaType=msoa&areaCode=E02000961&metric=newCasesBySpecimenDateRollingSum&format=csv\",\n",
    "    \"https://api.coronavirus.data.gov.uk/v2/data?areaType=msoa&areaCode=E02000961&metric=newCasesBySpecimenDateRollingRate&format=csv\",\n",
    "    \"https://api.coronavirus.data.gov.uk/v2/data?areaType=msoa&areaCode=E02000961&metric=newCasesBySpecimenDateChangePercentage&format=csv\",\n",
    "    \"https://api.coronavirus.data.gov.uk/v2/data?areaType=msoa&areaCode=E02000961&metric=cumVaccinationFirstDoseUptakeByVaccinationDatePercentage&format=csv\",\n",
    "    \"https://api.coronavirus.data.gov.uk/v2/data?areaType=msoa&areaCode=E02000961&metric=cumVaccinationSecondDoseUptakeByVaccinationDatePercentage&format=csv\"\n",
    "]"
   ]
  },
  {
   "cell_type": "code",
   "execution_count": 5,
   "metadata": {},
   "outputs": [],
   "source": [
    "template = {\n",
    "    \"name\": \"phe\",\n",
    "    \"url\": \"https://api.coronavirus.data.gov.uk/v2/data?areaType=overview&metric=cumAdmissions&format=csv\",\n",
    "    \"save_to\": \"phe/cumAdmissions.csv\",\n",
    "    \"dataType\": \"cum_timeseries\",\n",
    "    \"keywords\": [\"phe\", \"msoa\", \"hospital_admission\", \"daily\"]\n",
    "}"
   ]
  },
  {
   "cell_type": "code",
   "execution_count": null,
   "metadata": {},
   "outputs": [],
   "source": [
    "for url in urls:\n",
    "    d = template.copy()\n",
    "    d['url'] = url\n",
    "    d['save_to'] = f'phe/{dict(parse.parse_qsl(parse.urlsplit(url).query))[\"metric\"]}.csv'\n",
    "    print(json.dumps(d, indent=4))"
   ]
  },
  {
   "cell_type": "markdown",
   "metadata": {},
   "source": [
    "## Data streams"
   ]
  },
  {
   "cell_type": "code",
   "execution_count": 6,
   "metadata": {},
   "outputs": [
    {
     "name": "stdout",
     "output_type": "stream",
     "text": [
      "{'urlCode': 'API_PY', 'endpoint': '/data/?product=phe/overview&component=cumAdmissions&format=long', 'dataType': 'cum_timeseries', 'keywords': ['phe', 'uk', 'hospital_admission', 'daily'], 'description': ''}\n"
     ]
    },
    {
     "data": {
      "text/plain": [
       "16"
      ]
     },
     "execution_count": 6,
     "metadata": {},
     "output_type": "execute_result"
    }
   ],
   "source": [
    "with open('../manifest/urls.json') as f:\n",
    "    urls = json.load(f)\n",
    "    urls = [url for url in urls if url['name'] == 'phe']\n",
    "\n",
    "streams = generate_streams_from_urls(urls)\n",
    "print(streams[0])\n",
    "len(streams)"
   ]
  },
  {
   "cell_type": "markdown",
   "metadata": {},
   "source": [
    "### UK"
   ]
  },
  {
   "cell_type": "code",
   "execution_count": 28,
   "metadata": {},
   "outputs": [
    {
     "data": {
      "text/plain": [
       "12"
      ]
     },
     "execution_count": 28,
     "metadata": {},
     "output_type": "execute_result"
    }
   ],
   "source": [
    "uk_streams = [s for s in streams if 'uk' in s['keywords']]\n",
    "len(uk_streams)"
   ]
  },
  {
   "cell_type": "markdown",
   "metadata": {},
   "source": [
    "### LTLA"
   ]
  },
  {
   "cell_type": "code",
   "execution_count": 5,
   "metadata": {},
   "outputs": [
    {
     "data": {
      "text/plain": [
       "4"
      ]
     },
     "execution_count": 5,
     "metadata": {},
     "output_type": "execute_result"
    }
   ],
   "source": [
    "ltla_streams = [s for s in streams if 'ltla' in s['keywords']]\n",
    "len(ltla_streams)"
   ]
  },
  {
   "cell_type": "markdown",
   "metadata": {},
   "source": [
    "Get all area codes, it can be done from API but only select the codes that have all data using downloaded data."
   ]
  },
  {
   "cell_type": "code",
   "execution_count": 8,
   "metadata": {},
   "outputs": [
    {
     "data": {
      "text/plain": [
       "({'urlCode': 'API_PY',\n",
       "  'endpoint': '/data/?product=phe/ltla/s12000041&component=newCasesBySpecimenDate&format=long',\n",
       "  'dataType': 'timeseries',\n",
       "  'keywords': ['phe', 'ltla', 'new_cases', 'daily', 's12000041'],\n",
       "  'description': ''},\n",
       " 1344)"
      ]
     },
     "execution_count": 8,
     "metadata": {},
     "output_type": "execute_result"
    }
   ],
   "source": [
    "area_code_ltla_streams = []\n",
    "n_expected_files = len(ltla_streams)\n",
    "for p in Path('../../data/live/phe/ltla/').iterdir():\n",
    "    if len(list(p.glob('*.csv'))) == n_expected_files:\n",
    "        for s in ltla_streams:\n",
    "            scopy = s.copy()\n",
    "            scopy['endpoint'] = s['endpoint'].replace('phe/ltla', 'phe/ltla/' + p.name)\n",
    "            scopy['keywords'] = scopy['keywords'] + [p.name]\n",
    "            area_code_ltla_streams.append(scopy)\n",
    "area_code_ltla_streams[0], len(area_code_ltla_streams)"
   ]
  },
  {
   "cell_type": "markdown",
   "metadata": {},
   "source": [
    "### MSOA"
   ]
  },
  {
   "cell_type": "code",
   "execution_count": 24,
   "metadata": {},
   "outputs": [
    {
     "name": "stdout",
     "output_type": "stream",
     "text": [
      "{'urlCode': 'API_PY', 'endpoint': 'https://api.coronavirus.data.gov.uk/v2/data?areaType=msoa&metric=newCasesBySpecimenDateRollingSum&metric=newCasesBySpecimenDateRollingRate&metric=newCasesBySpecimenDateChangePercentage&metric=cumVaccinationFirstDoseUptakeByVaccinationDatePercentage&metric=cumVaccinationSecondDoseUptakeByVaccinationDatePercentage&format=csv', 'dataType': 'timeseries', 'keywords': ['phe', 'msoa', 'cases', 'daily'], 'description': ''}\n"
     ]
    },
    {
     "data": {
      "text/plain": [
       "1"
      ]
     },
     "execution_count": 24,
     "metadata": {},
     "output_type": "execute_result"
    }
   ],
   "source": [
    "with open('../manifest/msoa-streams.json') as f:\n",
    "    msoa_base_streams = json.load(f)\n",
    "\n",
    "print(msoa_base_streams[0])\n",
    "len(msoa_base_streams)"
   ]
  },
  {
   "cell_type": "markdown",
   "metadata": {},
   "source": [
    "> Only register area codes with data in all streams"
   ]
  },
  {
   "cell_type": "code",
   "execution_count": 4,
   "metadata": {},
   "outputs": [],
   "source": [
    "def select_full_data_codes(dfs):\n",
    "    all_codes = []\n",
    "    for df in dfs:\n",
    "        all_codes = all_codes + df['areaCode'].unique().tolist()\n",
    "    selected_area_codes = [code for code, count in Counter(all_codes).items() if count == len(msoa_streams)]\n",
    "    return selected_area_codes\n",
    "\n",
    "def generate_streams(base_streams, codes):\n",
    "    streams = []\n",
    "    for s in base_streams:\n",
    "        for c in codes:\n",
    "            scopy = s.copy()\n",
    "            scopy['endpoint'] = s['endpoint'] + '&areaCode=' + c\n",
    "            scopy['keywords'] = scopy['keywords'] + [c.lower()]\n",
    "            streams.append(scopy)\n",
    "    return streams"
   ]
  },
  {
   "cell_type": "code",
   "execution_count": 27,
   "metadata": {},
   "outputs": [
    {
     "data": {
      "text/plain": [
       "6789"
      ]
     },
     "execution_count": 27,
     "metadata": {},
     "output_type": "execute_result"
    }
   ],
   "source": [
    "dfs = [pd.read_csv(s['endpoint']) for s in msoa_base_streams]\n",
    "msoa_area_codes = select_full_data_codes(dfs)\n",
    "len(msoa_area_codes)"
   ]
  },
  {
   "cell_type": "code",
   "execution_count": 26,
   "metadata": {},
   "outputs": [],
   "source": [
    "msoa_area_codes = ['E02000961']"
   ]
  },
  {
   "cell_type": "code",
   "execution_count": 27,
   "metadata": {},
   "outputs": [
    {
     "data": {
      "text/plain": [
       "1"
      ]
     },
     "execution_count": 27,
     "metadata": {},
     "output_type": "execute_result"
    }
   ],
   "source": [
    "msoa_streams = generate_streams(msoa_base_streams, msoa_area_codes)\n",
    "len(msoa_streams)"
   ]
  },
  {
   "cell_type": "code",
   "execution_count": 28,
   "metadata": {},
   "outputs": [],
   "source": [
    "test_endpoints(msoa_streams, base_url='')"
   ]
  },
  {
   "cell_type": "code",
   "execution_count": 29,
   "metadata": {},
   "outputs": [],
   "source": [
    "token = get_token(prod=True)"
   ]
  },
  {
   "cell_type": "code",
   "execution_count": 30,
   "metadata": {},
   "outputs": [],
   "source": [
    "for s in msoa_streams:\n",
    "    register(s, token, prod=True)"
   ]
  },
  {
   "cell_type": "code",
   "execution_count": 31,
   "metadata": {},
   "outputs": [
    {
     "data": {
      "text/plain": [
       "'https://api.coronavirus.data.gov.uk/v2/data?areaType=msoa&metric=newCasesBySpecimenDateRollingSum&metric=newCasesBySpecimenDateRollingRate&metric=newCasesBySpecimenDateChangePercentage&metric=cumVaccinationFirstDoseUptakeByVaccinationDatePercentage&metric=cumVaccinationSecondDoseUptakeByVaccinationDatePercentage&format=csv&areaCode=E02000961'"
      ]
     },
     "execution_count": 31,
     "metadata": {},
     "output_type": "execute_result"
    }
   ],
   "source": [
    "msoa_streams[0]['endpoint']"
   ]
  },
  {
   "cell_type": "code",
   "execution_count": null,
   "metadata": {},
   "outputs": [],
   "source": [
    "# # To update title genration\n",
    "# area_codes = requests.get('https://api.coronavirus.data.gov.uk/generic/area/msoa').json()\n",
    "# area_codes_dict = {a['areaCode'].lower(): a['areaName'] for a in area_codes}\n",
    "# print(json.dumps(area_codes_dict, indent=4))"
   ]
  },
  {
   "cell_type": "markdown",
   "metadata": {},
   "source": [
    "---\n",
    "## Playground"
   ]
  },
  {
   "cell_type": "code",
   "execution_count": 69,
   "metadata": {},
   "outputs": [],
   "source": [
    "# age\n",
    "age_case_url = 'https://api.coronavirus.data.gov.uk/v2/data?areaType=region&metric=newCasesBySpecimenDateAgeDemographics&format=csv'\n",
    "age_death_url = 'https://api.coronavirus.data.gov.uk/v2/data?areaType=region&metric=newDeaths28DaysByDeathDateAgeDemographics&format=csv'\n",
    "age_vaccine_url = 'https://api.coronavirus.data.gov.uk/v2/data?areaType=region&metric=vaccinationsAgeDemographics&format=csv'\n",
    "\n",
    "# new cases & deaths\n",
    "case_death_url = 'https://api.coronavirus.data.gov.uk/v2/data?areaType=region&metric=newCasesByPublishDate&metric=newDeaths28DaysByPublishDate&format=csv'\n",
    "\n",
    "# vaccine\n",
    "vaccine_url = 'https://api.coronavirus.data.gov.uk/v2/data?areaType=region&metric=cumPeopleVaccinatedFirstDoseByVaccinationDate&metric=cumPeopleVaccinatedSecondDoseByVaccinationDate&metric=cumVaccinationFirstDoseUptakeByVaccinationDatePercentage&metric=cumVaccinationSecondDoseUptakeByVaccinationDatePercentage&format=csv'"
   ]
  },
  {
   "cell_type": "code",
   "execution_count": 15,
   "metadata": {},
   "outputs": [],
   "source": [
    "url_one = 'https://api.coronavirus.data.gov.uk/v2/data?areaType=ltla&areaCode=S12000036&metric=cumCasesBySpecimenDate&metric=newCasesBySpecimenDate&format=csv'\n",
    "url_full = 'https://api.coronavirus.data.gov.uk/v2/data?areaType=ltla&metric=cumCasesBySpecimenDate&metric=newCasesBySpecimenDate&format=csv'"
   ]
  }
 ],
 "metadata": {
  "kernelspec": {
   "display_name": "Python 3",
   "language": "python",
   "name": "python3"
  },
  "language_info": {
   "codemirror_mode": {
    "name": "ipython",
    "version": 3
   },
   "file_extension": ".py",
   "mimetype": "text/x-python",
   "name": "python",
   "nbconvert_exporter": "python",
   "pygments_lexer": "ipython3",
   "version": "3.8.10"
  },
  "toc": {
   "base_numbering": 1,
   "nav_menu": {},
   "number_sections": false,
   "sideBar": true,
   "skip_h1_title": true,
   "title_cell": "Contents",
   "title_sidebar": "Contents",
   "toc_cell": false,
   "toc_position": {},
   "toc_section_display": true,
   "toc_window_display": false
  }
 },
 "nbformat": 4,
 "nbformat_minor": 5
}
