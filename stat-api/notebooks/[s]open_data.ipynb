{
 "cells": [
  {
   "cell_type": "markdown",
   "id": "portuguese-chest",
   "metadata": {},
   "source": [
    "# Data Streams"
   ]
  },
  {
   "cell_type": "code",
   "execution_count": 1,
   "id": "guided-print",
   "metadata": {},
   "outputs": [],
   "source": [
    "import json\n",
    "import sys\n",
    "import os\n",
    "\n",
    "module_path = os.path.abspath(os.pardir)\n",
    "if module_path not in sys.path:\n",
    "    sys.path.append(module_path)\n",
    "    \n",
    "from stream import generate_streams, test_endpoints, get_token, register"
   ]
  },
  {
   "cell_type": "code",
   "execution_count": 2,
   "id": "defined-toolbox",
   "metadata": {},
   "outputs": [
    {
     "data": {
      "text/plain": [
       "1"
      ]
     },
     "execution_count": 2,
     "metadata": {},
     "output_type": "execute_result"
    }
   ],
   "source": [
    "with open('../manifest/opendata-2.json') as f:\n",
    "    manifest = json.load(f)\n",
    "\n",
    "streams = generate_streams(manifest, split=False)\n",
    "test_endpoints(streams)\n",
    "len(streams)"
   ]
  },
  {
   "cell_type": "code",
   "execution_count": 3,
   "id": "alleged-newcastle",
   "metadata": {},
   "outputs": [],
   "source": [
    "token = get_token(prod=True)"
   ]
  },
  {
   "cell_type": "code",
   "execution_count": 5,
   "id": "advisory-translator",
   "metadata": {},
   "outputs": [],
   "source": [
    "for s in streams:\n",
    "    register(s, token, prod=True)"
   ]
  }
 ],
 "metadata": {
  "kernelspec": {
   "display_name": "ramp-vis-api",
   "language": "python",
   "name": "ramp-vis-api"
  },
  "language_info": {
   "codemirror_mode": {
    "name": "ipython",
    "version": 3
   },
   "file_extension": ".py",
   "mimetype": "text/x-python",
   "name": "python",
   "nbconvert_exporter": "python",
   "pygments_lexer": "ipython3",
   "version": "3.8.3"
  },
  "toc": {
   "base_numbering": 1,
   "nav_menu": {},
   "number_sections": false,
   "sideBar": true,
   "skip_h1_title": true,
   "title_cell": "Contents",
   "title_sidebar": "Contents",
   "toc_cell": false,
   "toc_position": {},
   "toc_section_display": true,
   "toc_window_display": false
  }
 },
 "nbformat": 4,
 "nbformat_minor": 5
}
