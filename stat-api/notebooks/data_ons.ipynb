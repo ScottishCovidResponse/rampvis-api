{
 "cells": [
  {
   "cell_type": "markdown",
   "id": "southeast-polyester",
   "metadata": {},
   "source": [
    "# Processing data from ONS"
   ]
  },
  {
   "cell_type": "code",
   "execution_count": 1,
   "id": "advanced-brain",
   "metadata": {},
   "outputs": [],
   "source": [
    "import datetime\n",
    "\n",
    "import pandas as pd"
   ]
  },
  {
   "cell_type": "code",
   "execution_count": 2,
   "id": "particular-employment",
   "metadata": {},
   "outputs": [],
   "source": [
    "def convert_year_week_to_date(d):\n",
    "    # -5 to adjust that 8 Jan 2021 is considered as the last date of week 1\n",
    "    # If year 2020, taking back one week so that week 53 is 1 Jan 2021; otherwise it's 8 Jan 2021\n",
    "    if d[:4] == '2020':\n",
    "        tokens = d.split('-')\n",
    "        d = '-'.join([tokens[0], tokens[1], str(int(tokens[2]) - 1)])\n",
    "    return datetime.datetime.strptime(d + '-5', '%Y-week-%W-%w').strftime('%Y-%m-%d')\n",
    "\n",
    "assert convert_year_week_to_date('2020-week-53') == '2021-01-01'\n",
    "assert convert_year_week_to_date('2021-week-1') == '2021-01-08'\n",
    "assert convert_year_week_to_date('2021-week-7') == '2021-02-19'"
   ]
  },
  {
   "cell_type": "code",
   "execution_count": 3,
   "id": "normal-satin",
   "metadata": {},
   "outputs": [],
   "source": [
    "def extract_data(df, cause_of_death):\n",
    "    df = df.query('CauseOfDeath == @cause_of_death & RegistrationOrOccurrence == \"Registrations\"').copy()\n",
    "    df['week'] = df.apply(lambda t: f\"{t['calendar-years']}-{t['week-number']}\", axis=1)\n",
    "    df['date'] = df['week'].apply(convert_year_week_to_date)\n",
    "    columns = ['Geography', 'date', 'PlaceOfDeath', 'v4_0']\n",
    "    df = df[columns]\n",
    "    df = df.pivot_table(index='date', columns=['Geography', 'PlaceOfDeath'], values='v4_0')\n",
    "    df.columns = df.columns.map(lambda t: t[0] + '___' + t[1])\n",
    "    return df\n",
    "\n",
    "def build_data(df20, df21, cause_of_death):\n",
    "    df20 = extract_data(df20, cause_of_death)\n",
    "    df21 = extract_data(df21, cause_of_death)\n",
    "    return pd.concat([df20, df21])"
   ]
  },
  {
   "cell_type": "code",
   "execution_count": 4,
   "id": "apparent-forestry",
   "metadata": {},
   "outputs": [],
   "source": [
    "df20 = pd.read_csv('/Users/sbkr014/Downloads/covid-ons/weekly-deaths-local-authority-2020.csv')\n",
    "df21 = pd.read_csv('/Users/sbkr014/Downloads/covid-ons/weekly-deaths-local-authority-2021-v7.csv')\n",
    "cvd_df = build_data(df20, df21, 'COVID 19')\n",
    "all_df = build_data(df20, df21, 'All causes')\n",
    "assert len(all_df.columns) == len(cvd_df.columns) == 336 * 6"
   ]
  },
  {
   "cell_type": "code",
   "execution_count": 5,
   "id": "everyday-billy",
   "metadata": {},
   "outputs": [],
   "source": [
    "cvd_df.to_csv('../../data/live/ons/england/mortality/weekly_covid_deaths_local_authority.csv')\n",
    "cvd_df.to_csv('../../data/live/ons/england/mortality/weekly_all_deaths_local_authority.csv')"
   ]
  },
  {
   "cell_type": "markdown",
   "id": "together-windsor",
   "metadata": {},
   "source": [
    "## Generate list of options for ontology"
   ]
  },
  {
   "cell_type": "code",
   "execution_count": 14,
   "id": "divine-secretariat",
   "metadata": {},
   "outputs": [],
   "source": [
    "import os\n",
    "import sys"
   ]
  },
  {
   "cell_type": "code",
   "execution_count": 15,
   "id": "found-recognition",
   "metadata": {},
   "outputs": [],
   "source": [
    "module_path = os.path.abspath(os.pardir)\n",
    "if module_path not in sys.path:\n",
    "    sys.path.append(module_path)"
   ]
  },
  {
   "cell_type": "code",
   "execution_count": 16,
   "id": "mechanical-algeria",
   "metadata": {},
   "outputs": [],
   "source": [
    "from app.utils.naming import format_component_name"
   ]
  },
  {
   "cell_type": "code",
   "execution_count": 24,
   "id": "corporate-fireplace",
   "metadata": {},
   "outputs": [
    {
     "name": "stdout",
     "output_type": "stream",
     "text": [
      "['care_home', 'elsewhere', 'home', 'hospice', 'hospital', 'other_communal_establishment']\n"
     ]
    }
   ],
   "source": [
    "print(sorted([format_component_name(x) for x in df20['PlaceOfDeath'].unique()]))"
   ]
  }
 ],
 "metadata": {
  "kernelspec": {
   "display_name": "ramp-vis-api",
   "language": "python",
   "name": "ramp-vis-api"
  },
  "language_info": {
   "codemirror_mode": {
    "name": "ipython",
    "version": 3
   },
   "file_extension": ".py",
   "mimetype": "text/x-python",
   "name": "python",
   "nbconvert_exporter": "python",
   "pygments_lexer": "ipython3",
   "version": "3.8.3"
  }
 },
 "nbformat": 4,
 "nbformat_minor": 5
}
