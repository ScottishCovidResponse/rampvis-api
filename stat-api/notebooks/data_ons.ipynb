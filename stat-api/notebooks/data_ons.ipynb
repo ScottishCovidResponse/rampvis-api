{
 "cells": [
  {
   "cell_type": "markdown",
   "id": "modern-packet",
   "metadata": {},
   "source": [
    "# Processing data from ONS"
   ]
  },
  {
   "cell_type": "code",
   "execution_count": 1,
   "id": "occasional-gallery",
   "metadata": {},
   "outputs": [],
   "source": [
    "import datetime\n",
    "\n",
    "import pandas as pd"
   ]
  },
  {
   "cell_type": "code",
   "execution_count": 2,
   "id": "tropical-gross",
   "metadata": {},
   "outputs": [],
   "source": [
    "def convert_year_week_to_date(d):\n",
    "    # -5 to adjust that 8 Jan 2021 is considered as the last date of week 1\n",
    "    # If year 2020, taking back one week so that week 53 is 1 Jan 2021; otherwise it's 8 Jan 2021\n",
    "    if d[:4] == '2020':\n",
    "        tokens = d.split('-')\n",
    "        d = '-'.join([tokens[0], tokens[1], str(int(tokens[2]) - 1)])\n",
    "    return datetime.datetime.strptime(d + '-5', '%Y-week-%W-%w').strftime('%Y-%m-%d')\n",
    "\n",
    "assert convert_year_week_to_date('2020-week-53') == '2021-01-01'\n",
    "assert convert_year_week_to_date('2021-week-1') == '2021-01-08'\n",
    "assert convert_year_week_to_date('2021-week-7') == '2021-02-19'"
   ]
  },
  {
   "cell_type": "code",
   "execution_count": 3,
   "id": "controlled-davis",
   "metadata": {},
   "outputs": [],
   "source": [
    "def extract_data(df, cause_of_death):\n",
    "    df = df.query('CauseOfDeath == @cause_of_death & RegistrationOrOccurrence == \"Registrations\"').copy()\n",
    "    df['week'] = df.apply(lambda t: f\"{t['calendar-years']}-{t['week-number']}\", axis=1)\n",
    "    df['date'] = df['week'].apply(convert_year_week_to_date)\n",
    "    columns = ['Geography', 'date', 'PlaceOfDeath', 'v4_0']\n",
    "    df = df[columns]\n",
    "    df = df.pivot_table(index='date', columns=['Geography', 'PlaceOfDeath'], values='v4_0')\n",
    "    df.columns = df.columns.map(lambda t: t[0] + '___' + t[1])\n",
    "    return df\n",
    "\n",
    "def build_data(df20, df21, cause_of_death):\n",
    "    df20 = extract_data(df20, cause_of_death)\n",
    "    df21 = extract_data(df21, cause_of_death)\n",
    "    return pd.concat([df20, df21])"
   ]
  },
  {
   "cell_type": "code",
   "execution_count": 4,
   "id": "indian-manner",
   "metadata": {},
   "outputs": [],
   "source": [
    "df20 = pd.read_csv('/Users/sbkr014/Downloads/covid-ons/weekly-deaths-local-authority-2020.csv')\n",
    "df21 = pd.read_csv('/Users/sbkr014/Downloads/covid-ons/weekly-deaths-local-authority-2021-v7.csv')\n",
    "cvd_df = build_data(df20, df21, 'COVID 19')\n",
    "all_df = build_data(df20, df21, 'All causes')\n",
    "assert len(all_df.columns) == len(cvd_df.columns) == 336 * 6"
   ]
  },
  {
   "cell_type": "code",
   "execution_count": 42,
   "id": "liquid-magnet",
   "metadata": {},
   "outputs": [],
   "source": [
    "cvd_df.to_csv('../../data/live/ons/england/mortality/weekly_covid_deaths_local_authority.csv')\n",
    "all_df.to_csv('../../data/live/ons/england/mortality/weekly_all_deaths_local_authority.csv')"
   ]
  },
  {
   "cell_type": "markdown",
   "id": "successful-university",
   "metadata": {},
   "source": [
    "## Generate list of options for ontology"
   ]
  },
  {
   "cell_type": "code",
   "execution_count": 5,
   "id": "exact-cable",
   "metadata": {},
   "outputs": [],
   "source": [
    "import os\n",
    "import sys"
   ]
  },
  {
   "cell_type": "code",
   "execution_count": 6,
   "id": "adjacent-bosnia",
   "metadata": {},
   "outputs": [],
   "source": [
    "module_path = os.path.abspath(os.pardir)\n",
    "if module_path not in sys.path:\n",
    "    sys.path.append(module_path)"
   ]
  },
  {
   "cell_type": "code",
   "execution_count": 7,
   "id": "dietary-kitchen",
   "metadata": {},
   "outputs": [],
   "source": [
    "from app.utils.naming import format_component_name"
   ]
  },
  {
   "cell_type": "code",
   "execution_count": 8,
   "id": "structural-croatia",
   "metadata": {},
   "outputs": [
    {
     "name": "stdout",
     "output_type": "stream",
     "text": [
      "['care_home', 'elsewhere', 'home', 'hospice', 'hospital', 'other_communal_establishment']\n"
     ]
    }
   ],
   "source": [
    "print(sorted([format_component_name(x) for x in df20['PlaceOfDeath'].unique()]))"
   ]
  },
  {
   "cell_type": "code",
   "execution_count": 62,
   "id": "f15fa3e6",
   "metadata": {},
   "outputs": [],
   "source": [
    "name_mapping = {format_component_name(g): g for g in df20['Geography']}"
   ]
  },
  {
   "cell_type": "code",
   "execution_count": 63,
   "id": "5c29f4d1",
   "metadata": {},
   "outputs": [],
   "source": [
    "name_mapping['scotland'] = 'Scotland'\n",
    "name_mapping['england'] = 'England'\n",
    "name_mapping['wales'] = 'Wales'"
   ]
  },
  {
   "cell_type": "code",
   "execution_count": 64,
   "id": "56895c01",
   "metadata": {},
   "outputs": [],
   "source": [
    "df = pd.read_csv('../../data/live/records/SARS-CoV-2/scotland/human-mortality/council_area_week_all_deaths.csv')\n",
    "councils = df.columns.tolist()\n",
    "councils.remove('week commencing')\n",
    "for c in councils:\n",
    "    name_mapping[format_component_name(c)] = c"
   ]
  },
  {
   "cell_type": "code",
   "execution_count": 65,
   "id": "3aff5a63",
   "metadata": {},
   "outputs": [],
   "source": [
    "df = pd.read_csv('../../data/live/records/SARS-CoV-2/scotland/human-mortality/nhs_health_board_week_all_deaths.csv')\n",
    "boards = df.columns.tolist()\n",
    "boards.remove('week commencing')\n",
    "for c in boards:\n",
    "    name_mapping[format_component_name(c)] = c"
   ]
  },
  {
   "cell_type": "code",
   "execution_count": 66,
   "id": "5de44fe6",
   "metadata": {},
   "outputs": [],
   "source": [
    "import json"
   ]
  },
  {
   "cell_type": "code",
   "execution_count": 68,
   "id": "985fb09f",
   "metadata": {},
   "outputs": [],
   "source": [
    "with open('temp-data/name_mapping.json', 'w') as f:\n",
    "    json.dump(name_mapping, f)"
   ]
  }
 ],
 "metadata": {
  "kernelspec": {
   "display_name": "ramp-vis-api",
   "language": "python",
   "name": "ramp-vis-api"
  },
  "language_info": {
   "codemirror_mode": {
    "name": "ipython",
    "version": 3
   },
   "file_extension": ".py",
   "mimetype": "text/x-python",
   "name": "python",
   "nbconvert_exporter": "python",
   "pygments_lexer": "ipython3",
   "version": "3.8.3"
  },
  "toc": {
   "base_numbering": 1,
   "nav_menu": {},
   "number_sections": false,
   "sideBar": true,
   "skip_h1_title": true,
   "title_cell": "Contents",
   "title_sidebar": "Contents",
   "toc_cell": false,
   "toc_position": {},
   "toc_section_display": true,
   "toc_window_display": false
  }
 },
 "nbformat": 4,
 "nbformat_minor": 5
}
