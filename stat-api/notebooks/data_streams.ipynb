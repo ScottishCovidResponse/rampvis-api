{
 "cells": [
  {
   "cell_type": "markdown",
   "id": "perfect-strand",
   "metadata": {},
   "source": [
    "# Data Streams"
   ]
  },
  {
   "cell_type": "code",
   "execution_count": 2,
   "id": "soviet-haiti",
   "metadata": {},
   "outputs": [],
   "source": [
    "from pathlib import Path\n",
    "import json\n",
    "import pandas as pd\n",
    "import numpy as np\n",
    "import shutil\n",
    "import re\n",
    "import requests\n",
    "import h5py\n",
    "\n",
    "import sys\n",
    "import os\n",
    "\n",
    "module_path = os.path.abspath(os.pardir)\n",
    "if module_path not in sys.path:\n",
    "    sys.path.append(module_path)"
   ]
  },
  {
   "cell_type": "code",
   "execution_count": 3,
   "id": "attractive-session",
   "metadata": {},
   "outputs": [],
   "source": [
    "from app.utils.naming import component_to_csv_file, format_component_name"
   ]
  },
  {
   "cell_type": "code",
   "execution_count": 4,
   "id": "clear-morning",
   "metadata": {},
   "outputs": [],
   "source": [
    "def create_stream(p, c, col=None):\n",
    "    stream = {\n",
    "        'urlCode': 'API_PY',\n",
    "        'endpoint': f'/data/?product={p[\"product\"]}&component={c[\"name\"]}',\n",
    "        'dataType': c['dataType'],\n",
    "        'keywords': c['keywords'],\n",
    "        'description': c.get('description', '')\n",
    "    }\n",
    "    if col:\n",
    "        stream['endpoint'] += f'&field={col}'\n",
    "        \n",
    "        if p['product'] == 'ons/england/mortality':\n",
    "            stream['description'] = col.split('___')[0] + ', ' + c['description']\n",
    "        else:\n",
    "            desc = c.get('description', '')\n",
    "            if desc:\n",
    "                stream['description'] = col + ', ' + desc\n",
    "            else:\n",
    "                stream['description'] = col\n",
    "                \n",
    "    return stream"
   ]
  },
  {
   "cell_type": "code",
   "execution_count": 5,
   "id": "commercial-energy",
   "metadata": {},
   "outputs": [],
   "source": [
    "def generate_streams(manifest, names=None, folder='../../data/live/', split=True):\n",
    "    folder = Path(folder)\n",
    "    streams = []\n",
    "    for p in manifest:\n",
    "        for c in p['components']:\n",
    "            if names and c['name'] not in names:\n",
    "                continue\n",
    "                \n",
    "            # Register the component\n",
    "            filepath = component_to_csv_file(folder, p['product'], c['name'])\n",
    "            df = pd.read_csv(filepath, index_col=0)\n",
    "            streams.append(create_stream(p, c))\n",
    "            \n",
    "            # Each field in a component csv file should be registered separately as individual data streams\n",
    "            if split and len(df.columns) > 1:\n",
    "                for col in df.columns:\n",
    "                    stream = create_stream(p, c, col)\n",
    "                    col = format_component_name(col)\n",
    "                    # female___1-14 years: 2 separate keywords\n",
    "                    extra_keywords = col.split('___') if '___' in col else [col]\n",
    "                    stream['keywords'] = stream['keywords'] + extra_keywords\n",
    "                    streams.append(stream)\n",
    "    return streams"
   ]
  },
  {
   "cell_type": "code",
   "execution_count": 57,
   "id": "early-marsh",
   "metadata": {},
   "outputs": [],
   "source": [
    "def test_endpoints(streams, base_url='http://localhost:3000/stat/v1'):\n",
    "    # Can the endpoints be accessed?\n",
    "    for s in streams:\n",
    "        response = requests.get(base_url + s['endpoint'])\n",
    "        assert response.status_code == 200"
   ]
  },
  {
   "cell_type": "code",
   "execution_count": 7,
   "id": "offshore-henry",
   "metadata": {},
   "outputs": [],
   "source": [
    "def test_streams(streams):\n",
    "    # There should be 15 age_group/gender/scotland stream, 1 overall and 14 age_group x gender for covid_deaths\n",
    "    subset = [s for s in streams if all(k in s['keywords'] for k in {'scotland', 'covid_deaths', 'age_group', 'gender'})]\n",
    "    assert len(subset) == 15\n",
    "    assert len([s for s in subset if 'male' in s['keywords']]) == 7\n",
    "    assert len([s for s in subset if 'female' in s['keywords']]) == 7\n",
    "    assert len([s for s in subset if '1_14_years' in s['keywords']]) == 2"
   ]
  },
  {
   "cell_type": "markdown",
   "id": "finite-cinema",
   "metadata": {},
   "source": [
    "## Create streams"
   ]
  },
  {
   "cell_type": "code",
   "execution_count": 80,
   "id": "valuable-president",
   "metadata": {},
   "outputs": [],
   "source": [
    "with open('../manifest/manifest.json') as f:\n",
    "    manifest = json.load(f)"
   ]
  },
  {
   "cell_type": "code",
   "execution_count": 83,
   "id": "integrated-funeral",
   "metadata": {},
   "outputs": [
    {
     "data": {
      "text/plain": [
       "295"
      ]
     },
     "execution_count": 83,
     "metadata": {},
     "output_type": "execute_result"
    }
   ],
   "source": [
    "streams = generate_streams(manifest)\n",
    "# test_endpoints(streams)\n",
    "# test_streams(streams)\n",
    "len(streams)"
   ]
  },
  {
   "cell_type": "markdown",
   "id": "derived-redhead",
   "metadata": {},
   "source": [
    "## Register"
   ]
  },
  {
   "cell_type": "code",
   "execution_count": 14,
   "id": "human-weight",
   "metadata": {},
   "outputs": [],
   "source": [
    "def get_token(prod=False):\n",
    "    url = 'http://vis.scrc.uk/api/v1/auth/login' if prod else 'http://localhost:2000/api/v1/auth/login'\n",
    "    token = None\n",
    "    try:\n",
    "        res = requests.post(url, {'password': \"zCEEwRSZGaSG2uL2\", 'email': \"phong@admin.com\"})\n",
    "        if res and res.json() and res.json()['token']:\n",
    "            token = res.json()['token']\n",
    "\n",
    "    except ConnectionError as e:\n",
    "        print(\"token request: error = \", e)\n",
    "\n",
    "    except Exception as e:\n",
    "        print(\"Something went wrong\", e)\n",
    "\n",
    "    else:\n",
    "        return token\n",
    "\n",
    "def register(data, token, prod=False):\n",
    "    url = 'http://vis.scrc.uk/api/v1/ontology/data' if prod else 'http://localhost:2000/api/v1/ontology/data'\n",
    "    headers = {'Authorization': 'Bearer ' + token}\n",
    "    try:\n",
    "        response = requests.post(url, data, headers=headers)\n",
    "        response = response.json()\n",
    "        if 'message' in response:\n",
    "            print(response)\n",
    "    except Exception as e:\n",
    "        print(e)"
   ]
  },
  {
   "cell_type": "markdown",
   "id": "enhanced-entity",
   "metadata": {},
   "source": [
    "### 1. Agegroup/gender"
   ]
  },
  {
   "cell_type": "code",
   "execution_count": 63,
   "id": "dominant-utility",
   "metadata": {},
   "outputs": [],
   "source": [
    "for s in streams:\n",
    "    s['keywords'] = s['keywords'] + ['phong']"
   ]
  },
  {
   "cell_type": "code",
   "execution_count": 64,
   "id": "unable-faculty",
   "metadata": {},
   "outputs": [],
   "source": [
    "age_gen_streams = [s for s in streams if all(k in s['keywords'] for k in {'scotland', 'covid_deaths', 'age_group', 'gender'})]"
   ]
  },
  {
   "cell_type": "code",
   "execution_count": null,
   "id": "pleased-printer",
   "metadata": {},
   "outputs": [],
   "source": [
    "for s in age_gen_streams:\n",
    "    register(s, token)"
   ]
  },
  {
   "cell_type": "markdown",
   "id": "burning-convert",
   "metadata": {},
   "source": [
    "### 2. Mock England agegroup/gender"
   ]
  },
  {
   "cell_type": "code",
   "execution_count": null,
   "id": "imperial-stone",
   "metadata": {},
   "outputs": [],
   "source": [
    "s = json.dumps(age_gen_streams)\n",
    "wales_streams = json.loads(s.replace('scotland', 'wales'))\n",
    "for s in wales_streams:\n",
    "    register(s, token)"
   ]
  },
  {
   "cell_type": "markdown",
   "id": "meaning-frontier",
   "metadata": {},
   "source": [
    "### 3. ONS"
   ]
  },
  {
   "cell_type": "code",
   "execution_count": 35,
   "id": "functioning-virtue",
   "metadata": {},
   "outputs": [],
   "source": [
    "with open('../manifest/ons-manifest.json') as f:\n",
    "    ons_manifest = json.load(f)\n",
    "ons_streams = generate_streams(ons_manifest)\n",
    "for s in ons_streams:\n",
    "    s['keywords'] = s['keywords'] + ['phong']"
   ]
  },
  {
   "cell_type": "code",
   "execution_count": null,
   "id": "electronic-action",
   "metadata": {},
   "outputs": [],
   "source": [
    "test_endpoints(ons_streams)"
   ]
  },
  {
   "cell_type": "code",
   "execution_count": null,
   "id": "boring-mattress",
   "metadata": {},
   "outputs": [],
   "source": [
    "for s in ons_streams:\n",
    "    register(s, token)"
   ]
  },
  {
   "cell_type": "markdown",
   "id": "chief-intensity",
   "metadata": {},
   "source": [
    "---"
   ]
  },
  {
   "cell_type": "markdown",
   "id": "flexible-figure",
   "metadata": {},
   "source": [
    "## 1. Dashboards"
   ]
  },
  {
   "cell_type": "markdown",
   "id": "dietary-marina",
   "metadata": {},
   "source": [
    "```\n",
    "var DATASTREAM_1 = \"data/nhs_health_board_date_covid19_patients_in_hospital_confirmed_normalized.csv\";\n",
    "var DATASTREAM_2 = \"data/nhs_health_board_date_covid19_patients_in_hospital_confirmed.csv\";\n",
    "var DATASTREAM_3 = \"data/nhs_health_board_date_covid19_patients_in_icu_confirmed.csv\";\n",
    "var DATASTREAM_4 = \"data/nhsboard_date_total_daily_tests_reported.csv\";\n",
    "var DATASTREAM_5 = \"data/nhs_health_board_week_covid_related_deaths.csv\";\n",
    "var DATASTREAM_6 = \"data/nhs_health_board_week_all_deaths.csv\";\n",
    "```"
   ]
  },
  {
   "cell_type": "code",
   "execution_count": 72,
   "id": "fluid-association",
   "metadata": {},
   "outputs": [],
   "source": [
    "with open('../manifest/manifest.json') as f:\n",
    "    manifest = json.load(f)\n",
    "\n",
    "names = [\n",
    "#     'date-country-new_cases_reported',\n",
    "#     'date-country-covid19_patients_in_hospital-confirmed',\n",
    "#     'date-country-covid19_patients_in_icu-confirmed',\n",
    "#     'nhsboard/date-total_daily_tests_reported',\n",
    "#     'nhsboard/date-total_daily_tests_reported_normalized',\n",
    "#     'nhs_health_board/date-covid19_patients_in_hospital-confirmed',\n",
    "#     'nhs_health_board/date-covid19_patients_in_hospital-confirmed_normalized',\n",
    "#     'nhs_health_board/date-covid19_patients_in_icu-confirmed',\n",
    "#     'nhs_health_board/date-covid19_patients_in_icu-confirmed_normalized',\n",
    "#     'nhs_health_board/week-covid_related_deaths',\n",
    "#     'nhs_health_board/week-covid_related_deaths_normalized',\n",
    "#     'nhs_health_board/week-all_deaths',\n",
    "#     'nhs_health_board/week-all_deaths_normalized',\n",
    "    'council_area/week-all_deaths',\n",
    "    'council_area/week-covid_related_deaths'\n",
    "]\n",
    "\n",
    "db_streams = generate_streams(manifest, names)\n",
    "for s in db_streams:\n",
    "    s['keywords'] = s['keywords'] + ['bdb']\n",
    "    if not s['description']:\n",
    "        s['description'] = 'Scotland'\n",
    "        s['keywords'] = s['keywords'] + ['all_local_authorities']"
   ]
  },
  {
   "cell_type": "code",
   "execution_count": 74,
   "id": "creative-still",
   "metadata": {},
   "outputs": [],
   "source": [
    "test_endpoints(db_streams)"
   ]
  },
  {
   "cell_type": "code",
   "execution_count": 75,
   "id": "sharing-seven",
   "metadata": {
    "scrolled": true
   },
   "outputs": [],
   "source": [
    "token = get_token(prod=True)\n",
    "for s in db_streams:\n",
    "    register(s, token, prod=True)"
   ]
  },
  {
   "cell_type": "markdown",
   "id": "ffa9a8f3",
   "metadata": {},
   "source": [
    "## 2. Opendata"
   ]
  },
  {
   "cell_type": "code",
   "execution_count": 11,
   "id": "a7722f88",
   "metadata": {},
   "outputs": [
    {
     "data": {
      "text/plain": [
       "48"
      ]
     },
     "execution_count": 11,
     "metadata": {},
     "output_type": "execute_result"
    }
   ],
   "source": [
    "with open('../manifest/opendata-manifest.json') as f:\n",
    "    manifest = json.load(f)\n",
    "\n",
    "od_streams = generate_streams(manifest, split=False)\n",
    "test_endpoints(od_streams)\n",
    "len(od_streams)"
   ]
  },
  {
   "cell_type": "code",
   "execution_count": 27,
   "id": "afe0bfdf",
   "metadata": {},
   "outputs": [],
   "source": [
    "token = get_token(prod=True)"
   ]
  },
  {
   "cell_type": "code",
   "execution_count": 18,
   "id": "e26d6978",
   "metadata": {},
   "outputs": [],
   "source": [
    "for s in od_streams:\n",
    "    register(s, token, prod=True)"
   ]
  },
  {
   "cell_type": "code",
   "execution_count": 29,
   "id": "18e02ec7",
   "metadata": {},
   "outputs": [
    {
     "data": {
      "text/plain": [
       "2"
      ]
     },
     "execution_count": 29,
     "metadata": {},
     "output_type": "execute_result"
    }
   ],
   "source": [
    "with open('../manifest/opendata-manifest.json') as f:\n",
    "    manifest = json.load(f)\n",
    "\n",
    "names = [\n",
    "    'daily_health_boards',\n",
    "    'daily_local_authorities'\n",
    "]\n",
    "\n",
    "streams = generate_streams(manifest, names, split=False)\n",
    "test_endpoints(streams)\n",
    "len(streams)"
   ]
  },
  {
   "cell_type": "code",
   "execution_count": 30,
   "id": "89579206",
   "metadata": {},
   "outputs": [],
   "source": [
    "for s in streams:\n",
    "    register(s, token, prod=True)"
   ]
  },
  {
   "cell_type": "markdown",
   "id": "d17d7074",
   "metadata": {},
   "source": [
    "## 3. Cumulative"
   ]
  },
  {
   "cell_type": "code",
   "execution_count": 23,
   "id": "697ad50c",
   "metadata": {},
   "outputs": [
    {
     "data": {
      "text/plain": [
       "8"
      ]
     },
     "execution_count": 23,
     "metadata": {},
     "output_type": "execute_result"
    }
   ],
   "source": [
    "with open('../manifest/manifest.json') as f:\n",
    "    manifest = json.load(f)\n",
    "\n",
    "names = [\n",
    "    'test_result/date-people_tested_for_covid19-cumulative',\n",
    "    'testing_location/date-covid19_tests_carried_out-cumulative',\n",
    "    'date-country-covid19_confirmed_deaths_registered-cumulative'\n",
    "]\n",
    "\n",
    "streams = generate_streams(manifest, names)\n",
    "test_endpoints(streams)\n",
    "len(streams)"
   ]
  },
  {
   "cell_type": "code",
   "execution_count": 24,
   "id": "096398d0",
   "metadata": {},
   "outputs": [],
   "source": [
    "token = get_token(prod=True)"
   ]
  },
  {
   "cell_type": "code",
   "execution_count": 25,
   "id": "4003349b",
   "metadata": {},
   "outputs": [],
   "source": [
    "for s in streams:\n",
    "    register(s, token, prod=True)"
   ]
  },
  {
   "cell_type": "markdown",
   "id": "774f12a6",
   "metadata": {},
   "source": [
    "## 4. Models"
   ]
  },
  {
   "cell_type": "code",
   "execution_count": 58,
   "id": "bd203324",
   "metadata": {},
   "outputs": [],
   "source": [
    "def generate_model_streams(manifest):\n",
    "    streams = []\n",
    "    for p in manifest:\n",
    "        for c in p['components']:\n",
    "            stream = {\n",
    "                'urlCode': 'API_PY',\n",
    "                'endpoint': f'/{p[\"model\"]}/{c[\"name\"]}',\n",
    "                'dataType': c['dataType'],\n",
    "                'keywords': c['keywords'],\n",
    "                'description': c['description']\n",
    "            }\n",
    "            streams.append(stream)\n",
    "    return streams\n",
    "            \n",
    "with open('../manifest/model-manifest.json') as f:\n",
    "    manifest = json.load(f)\n",
    "    \n",
    "streams = generate_model_streams(manifest)\n",
    "test_endpoints(streams)"
   ]
  },
  {
   "cell_type": "code",
   "execution_count": 60,
   "id": "1a4430aa",
   "metadata": {},
   "outputs": [],
   "source": [
    "for s in streams:\n",
    "    register(s, token, prod=True)"
   ]
  }
 ],
 "metadata": {
  "kernelspec": {
   "display_name": "ramp-vis-api",
   "language": "python",
   "name": "ramp-vis-api"
  },
  "language_info": {
   "codemirror_mode": {
    "name": "ipython",
    "version": 3
   },
   "file_extension": ".py",
   "mimetype": "text/x-python",
   "name": "python",
   "nbconvert_exporter": "python",
   "pygments_lexer": "ipython3",
   "version": "3.8.3"
  },
  "toc": {
   "base_numbering": 1,
   "nav_menu": {},
   "number_sections": false,
   "sideBar": true,
   "skip_h1_title": true,
   "title_cell": "Contents",
   "title_sidebar": "Contents",
   "toc_cell": false,
   "toc_position": {},
   "toc_section_display": true,
   "toc_window_display": false
  }
 },
 "nbformat": 4,
 "nbformat_minor": 5
}
