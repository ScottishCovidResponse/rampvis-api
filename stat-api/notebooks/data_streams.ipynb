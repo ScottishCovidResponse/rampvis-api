{
 "cells": [
  {
   "cell_type": "markdown",
   "id": "reduced-survival",
   "metadata": {},
   "source": [
    "# Data Streams"
   ]
  },
  {
   "cell_type": "code",
   "execution_count": 36,
   "id": "disciplinary-transport",
   "metadata": {},
   "outputs": [],
   "source": [
    "from pathlib import Path\n",
    "import json\n",
    "import pandas as pd\n",
    "import numpy as np\n",
    "import shutil\n",
    "import re\n",
    "import requests\n",
    "import h5py\n",
    "\n",
    "import sys\n",
    "import os\n",
    "\n",
    "module_path = os.path.abspath(os.pardir)\n",
    "if module_path not in sys.path:\n",
    "    sys.path.append(module_path)"
   ]
  },
  {
   "cell_type": "code",
   "execution_count": 37,
   "id": "detected-event",
   "metadata": {},
   "outputs": [],
   "source": [
    "from app.utils.naming import component_to_csv_file, format_component_name"
   ]
  },
  {
   "cell_type": "code",
   "execution_count": 38,
   "id": "national-hearts",
   "metadata": {},
   "outputs": [],
   "source": [
    "def create_stream(p, c, col=None):\n",
    "    stream = {\n",
    "        'urlCode': 'API_PY',\n",
    "        'endpoint': f'/data?product={p[\"product\"]}&component={c[\"name\"]}',\n",
    "        'dataType': c['dataType'],\n",
    "        'keywords': c['keywords'],\n",
    "        'description': ''\n",
    "    }\n",
    "    if col:\n",
    "        stream['endpoint'] += f'&field={col}'\n",
    "    return stream"
   ]
  },
  {
   "cell_type": "code",
   "execution_count": 39,
   "id": "infectious-drunk",
   "metadata": {},
   "outputs": [],
   "source": [
    "def generate_streams(manifest, folder='../../data/live/'):\n",
    "    folder = Path(folder)\n",
    "    streams = []\n",
    "    for p in manifest:\n",
    "        for c in p['components']:\n",
    "            # Register the component\n",
    "            filepath = component_to_csv_file(folder, p['product'], c['name'])\n",
    "            df = pd.read_csv(filepath, index_col=0)\n",
    "            streams.append(create_stream(p, c))\n",
    "            \n",
    "            # Each field in a component csv file should be registered separately as individual data streams\n",
    "            if len(df.columns) > 1:\n",
    "                for col in df.columns:\n",
    "                    stream = create_stream(p, c, col)\n",
    "                    col = format_component_name(col)\n",
    "                    # female___1-14 years: 2 separate keywords\n",
    "                    extra_keywords = col.split('___') if '___' in col else [col]\n",
    "                    stream['keywords'] = stream['keywords'] + extra_keywords\n",
    "                    streams.append(stream)\n",
    "    return streams"
   ]
  },
  {
   "cell_type": "code",
   "execution_count": 40,
   "id": "beginning-bottle",
   "metadata": {},
   "outputs": [],
   "source": [
    "def test_endpoints(streams, base_url='http://localhost:3000'):\n",
    "    # Can the endpoints be accessed?\n",
    "    for s in streams:\n",
    "        response = requests.get(base_url + s['endpoint'])\n",
    "        assert len(response.json())"
   ]
  },
  {
   "cell_type": "code",
   "execution_count": 41,
   "id": "forced-multiple",
   "metadata": {},
   "outputs": [],
   "source": [
    "def test_streams(streams):\n",
    "    # There should be 15 age_group/gender/scotland stream, 1 overall and 14 age_group x gender for covid_deaths\n",
    "    subset = [s for s in streams if all(k in s['keywords'] for k in {'scotland', 'covid_deaths', 'age_group', 'gender'})]\n",
    "    assert len(subset) == 15\n",
    "    assert len([s for s in subset if 'male' in s['keywords']]) == 7\n",
    "    assert len([s for s in subset if 'female' in s['keywords']]) == 7\n",
    "    assert len([s for s in subset if '1_14_years' in s['keywords']]) == 2"
   ]
  },
  {
   "cell_type": "markdown",
   "id": "integral-devil",
   "metadata": {},
   "source": [
    "## Create streams"
   ]
  },
  {
   "cell_type": "code",
   "execution_count": 6,
   "id": "breeding-pastor",
   "metadata": {},
   "outputs": [],
   "source": [
    "with open('../manifest/manifest.json') as f:\n",
    "    manifest = json.load(f)"
   ]
  },
  {
   "cell_type": "code",
   "execution_count": 7,
   "id": "artistic-toddler",
   "metadata": {},
   "outputs": [],
   "source": [
    "streams = generate_streams(manifest)\n",
    "test_endpoints(streams)\n",
    "test_streams(streams)"
   ]
  },
  {
   "cell_type": "markdown",
   "id": "legendary-millennium",
   "metadata": {},
   "source": [
    "## Register"
   ]
  },
  {
   "cell_type": "code",
   "execution_count": 42,
   "id": "whole-delivery",
   "metadata": {},
   "outputs": [],
   "source": [
    "def get_token():\n",
    "    token = None\n",
    "    try:\n",
    "        res = requests.post('http://localhost:2000/api/v1/auth/login', {'password': \"zCEEwRSZGaSG2uL2\", 'email': \"phong@admin.com\"})\n",
    "        if res and res.json() and res.json()['token']:\n",
    "            token = res.json()['token']\n",
    "\n",
    "    except ConnectionError as e:\n",
    "        print(\"token request: error = \", e)\n",
    "\n",
    "    except Exception as e:\n",
    "        print(\"Something went wrong\", e)\n",
    "\n",
    "    else:\n",
    "        return token\n",
    "\n",
    "def register(data, token):\n",
    "    url = 'http://localhost:2000/api/v1/ontology/data'\n",
    "    headers = {'Authorization': 'Bearer ' + token}\n",
    "    try:\n",
    "        response = requests.post(url, data, headers=headers)\n",
    "        print(response.json())\n",
    "    except Exception as e:\n",
    "        print(e)"
   ]
  },
  {
   "cell_type": "code",
   "execution_count": 43,
   "id": "going-tissue",
   "metadata": {},
   "outputs": [],
   "source": [
    "token = get_token()"
   ]
  },
  {
   "cell_type": "markdown",
   "id": "virtual-composite",
   "metadata": {},
   "source": [
    "### Register agegroup/gender first"
   ]
  },
  {
   "cell_type": "code",
   "execution_count": 63,
   "id": "genuine-puppy",
   "metadata": {},
   "outputs": [],
   "source": [
    "for s in streams:\n",
    "    s['keywords'] = s['keywords'] + ['phong']"
   ]
  },
  {
   "cell_type": "code",
   "execution_count": 64,
   "id": "devoted-primary",
   "metadata": {},
   "outputs": [],
   "source": [
    "age_gen_streams = [s for s in streams if all(k in s['keywords'] for k in {'scotland', 'covid_deaths', 'age_group', 'gender'})]"
   ]
  },
  {
   "cell_type": "code",
   "execution_count": null,
   "id": "verbal-significance",
   "metadata": {},
   "outputs": [],
   "source": [
    "for s in age_gen_streams:\n",
    "    register(s, token)"
   ]
  },
  {
   "cell_type": "markdown",
   "id": "adaptive-tobacco",
   "metadata": {},
   "source": [
    "### Mock England agegroup/gender"
   ]
  },
  {
   "cell_type": "code",
   "execution_count": null,
   "id": "sustained-shell",
   "metadata": {},
   "outputs": [],
   "source": [
    "s = json.dumps(age_gen_streams)\n",
    "wales_streams = json.loads(s.replace('scotland', 'wales'))\n",
    "for s in wales_streams:\n",
    "    register(s, token)"
   ]
  },
  {
   "cell_type": "markdown",
   "id": "plain-intensity",
   "metadata": {},
   "source": [
    "## ONS"
   ]
  },
  {
   "cell_type": "code",
   "execution_count": 44,
   "id": "democratic-astronomy",
   "metadata": {},
   "outputs": [],
   "source": [
    "with open('../manifest/ons-manifest.json') as f:\n",
    "    ons_manifest = json.load(f)\n",
    "ons_streams = generate_streams(ons_manifest)\n",
    "for s in ons_streams:\n",
    "    s['keywords'] = s['keywords'] + ['phong']"
   ]
  },
  {
   "cell_type": "code",
   "execution_count": 45,
   "id": "reasonable-smile",
   "metadata": {},
   "outputs": [],
   "source": [
    "test_endpoints(ons_streams)"
   ]
  },
  {
   "cell_type": "code",
   "execution_count": null,
   "id": "isolated-catch",
   "metadata": {},
   "outputs": [],
   "source": [
    "for s in ons_streams:\n",
    "    register(s, token)"
   ]
  }
 ],
 "metadata": {
  "kernelspec": {
   "display_name": "ramp-vis-api",
   "language": "python",
   "name": "ramp-vis-api"
  },
  "language_info": {
   "codemirror_mode": {
    "name": "ipython",
    "version": 3
   },
   "file_extension": ".py",
   "mimetype": "text/x-python",
   "name": "python",
   "nbconvert_exporter": "python",
   "pygments_lexer": "ipython3",
   "version": "3.8.3"
  }
 },
 "nbformat": 4,
 "nbformat_minor": 5
}
