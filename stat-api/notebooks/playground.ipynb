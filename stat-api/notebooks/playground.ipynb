{
 "cells": [
  {
   "cell_type": "markdown",
   "id": "million-staff",
   "metadata": {},
   "source": [
    "# Exploring some ideas"
   ]
  },
  {
   "cell_type": "code",
   "execution_count": 1,
   "id": "included-minneapolis",
   "metadata": {},
   "outputs": [],
   "source": [
    "from pathlib import Path\n",
    "import json\n",
    "import pandas as pd\n",
    "import numpy as np\n",
    "import shutil\n",
    "import re"
   ]
  },
  {
   "cell_type": "code",
   "execution_count": 58,
   "id": "executed-ending",
   "metadata": {},
   "outputs": [],
   "source": [
    "nhs_code_to_name = {\n",
    "    'S08000015': 'Ayrshire and Arran',\n",
    "    'S08000016': 'Borders',\n",
    "    'S08000017': 'Dumfries and Galloway',\n",
    "    'S08000018': 'Fife',\n",
    "    'S08000019': 'Forth Valley',\n",
    "    'S08000020': 'Grampian',\n",
    "    'S08000021': 'Greater Glasgow and Clyde',\n",
    "    'S08000022': 'Highland',\n",
    "    'S08000023': 'Lanarkshire',\n",
    "    'S08000024': 'Lothian',\n",
    "    'S08000025': 'Orkney',\n",
    "    'S08000026': 'Shetland',\n",
    "    'S08000027': 'Tayside',\n",
    "    'S08000028': 'Western Isles',\n",
    "    'S08000029': 'Fife',\n",
    "    'S08000030': 'Tayside',\n",
    "    'S08000031': 'Greater Glasgow and Clyde',\n",
    "    'S08000032': 'Lanarkshire'\n",
    "}"
   ]
  },
  {
   "cell_type": "code",
   "execution_count": 71,
   "id": "encouraging-barrier",
   "metadata": {},
   "outputs": [],
   "source": [
    "def process_health_board(in_file, group_file, all_file, is_gender):\n",
    "    df = pd.read_csv(in_file, index_col='health board')\n",
    "\n",
    "    # 1. Grouping\n",
    "    # 91: the last group is 90+\n",
    "    age_groups = [range(0,1), range(1,15), range(15,45), range(45,65), range(65,75), range(75,85), range(85,91)]\n",
    "    old_cols = df.columns\n",
    "    prefixes = ['males___', 'females___'] if is_gender else ['']\n",
    "    grouped_cols = []\n",
    "    all_cols = []\n",
    "    for prefix in prefixes:\n",
    "        for group in age_groups:\n",
    "            cols = [c for c in df.columns if c.startswith(prefix) and int(re.search(r'(\\d+)', c).group()) in group]\n",
    "            assert len(cols) == len(list(group))\n",
    "            m1, m2 = min(list(group)), max(list(group))\n",
    "            suffix = f'{m1} years and over' if m1 == 85 else f'{m1} years' if m1 == m2 else f'{m1}-{m2} years'\n",
    "            new_col = (prefix + suffix).replace('males', 'male')\n",
    "            df[new_col] = df[cols].sum(axis=1)\n",
    "            grouped_cols.append(new_col)\n",
    "            \n",
    "        cols = [c for c in df.columns if c.startswith(prefix)]\n",
    "        all_col = prefix + 'all'\n",
    "        df[all_col] = df[cols].sum(axis=1)\n",
    "        all_cols.append(all_col)\n",
    "    \n",
    "    # 2. Rename index\n",
    "    df.index = df.index.map(nhs_code_to_name)\n",
    "    df = df.sort_index()\n",
    "    df[grouped_cols].to_csv(group_file)\n",
    "    df[all_cols].to_csv(all_file)\n",
    "    \n",
    "process_health_board('../data/static/human/demographics/population/scotland/health board_age_genders.csv',\n",
    "                     '../data/static/human/demographics/population/scotland/health board_age_genders_grouped.csv',\n",
    "                     '../data/static/human/demographics/population/scotland/health board_age_genders_all.csv',\n",
    "                     is_gender=True)"
   ]
  }
 ],
 "metadata": {
  "kernelspec": {
   "display_name": "ramp-vis-api",
   "language": "python",
   "name": "ramp-vis-api"
  },
  "language_info": {
   "codemirror_mode": {
    "name": "ipython",
    "version": 3
   },
   "file_extension": ".py",
   "mimetype": "text/x-python",
   "name": "python",
   "nbconvert_exporter": "python",
   "pygments_lexer": "ipython3",
   "version": "3.8.3"
  }
 },
 "nbformat": 4,
 "nbformat_minor": 5
}
