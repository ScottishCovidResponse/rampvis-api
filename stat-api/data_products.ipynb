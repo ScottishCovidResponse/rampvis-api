{
 "cells": [
  {
   "cell_type": "markdown",
   "id": "comic-emerald",
   "metadata": {},
   "source": [
    "# Generate manifest file"
   ]
  },
  {
   "cell_type": "code",
   "execution_count": 114,
   "id": "related-niger",
   "metadata": {},
   "outputs": [],
   "source": [
    "from pathlib import Path\n",
    "import json\n",
    "import pandas as pd\n",
    "import numpy as np\n",
    "import h5py\n",
    "import shutil\n",
    "\n",
    "from dateutil.parser import isoparse"
   ]
  },
  {
   "cell_type": "code",
   "execution_count": 120,
   "id": "honest-surface",
   "metadata": {},
   "outputs": [
    {
     "name": "stdout",
     "output_type": "stream",
     "text": [
      "processing date-country-adult_carehomes_which_submitted_a_return\n",
      "True\n",
      "<class 'pandas.core.frame.DataFrame'>\n",
      "Index: 37 entries, 2020-04-21 to 2021-01-05\n",
      "Data columns (total 1 columns):\n",
      " #   Column                                                        Non-Null Count  Dtype\n",
      "---  ------                                                        --------------  -----\n",
      " 0   Adult care homes - Adult care homes which submitted a return  37 non-null     Int64\n",
      "dtypes: Int64(1)\n",
      "memory usage: 629.0+ bytes\n"
     ]
    }
   ],
   "source": [
    "def to_df(f, key):\n",
    "    print('processing', key)\n",
    "    values = np.array(f[key]['array'])\n",
    "    names_1 = [d.decode() for d in f[key]['Dimension_1_names']]\n",
    "    title_1 = list(f[key]['Dimension_1_title'])[0].decode()\n",
    "    names_2 = [d.decode() for d in f[key]['Dimension_2_names']]\n",
    "    title_2 = list(f[key]['Dimension_2_title'])[0].decode()\n",
    "    index_is_date = False\n",
    "    try:\n",
    "        isoparse(names_2[0])\n",
    "        # Succeeded, names_2 are dates and names_1 are columns\n",
    "        index_is_date = True\n",
    "        indices = names_2\n",
    "        index_name = title_2\n",
    "        columns = names_1\n",
    "    except Exception:\n",
    "        # Failed, names_2 are columns and names_1 are normal indices.\n",
    "        indices = names_1\n",
    "        index_name = title_1\n",
    "        columns = names_2\n",
    "\n",
    "    if 'Dimension_3_names' in f[key]:\n",
    "        extra_columns = [d.decode() for d in f[key]['Dimension_3_names']]\n",
    "        data_dict = {}\n",
    "        for i1, c1 in enumerate(extra_columns):\n",
    "            for i2, c2 in enumerate(columns):\n",
    "                data_dict[c1 + '___' + c2] = values[i1,:,i2] if index_is_date else values[i1,i2,:]\n",
    "                \n",
    "        df = pd.DataFrame(data_dict, index=indices, dtype='Int64')\n",
    "    else:\n",
    "        # The values are aslo transposed in case of 2 dimensions and non-date\n",
    "        if not index_is_date:\n",
    "            values = values.T\n",
    "            \n",
    "        # Try Int64 first which is the same as int but can store NaN\n",
    "        try:\n",
    "            df = pd.DataFrame(data=values, index=indices, columns=columns, dtype='Int64')\n",
    "        except Exception:\n",
    "            df = pd.DataFrame(data=values, index=indices, columns=columns, dtype='Float64')\n",
    "            \n",
    "    df.index.name = index_name\n",
    "    assert df.values.shape == (len(df), len(df.columns))\n",
    "    \n",
    "    return df\n",
    "\n",
    "f = h5py.File('/Users/sbkr014/Downloads/dataproducts/records:SARS-CoV-2:scotland:cases-and-management:carehomes.h5')\n",
    "df = to_df(f, 'date-country-adult_carehomes_which_submitted_a_return')\n",
    "df.info()"
   ]
  },
  {
   "cell_type": "code",
   "execution_count": 134,
   "id": "bound-appraisal",
   "metadata": {},
   "outputs": [
    {
     "data": {
      "text/plain": [
       "(91, 14)"
      ]
     },
     "execution_count": 134,
     "metadata": {},
     "output_type": "execute_result"
    }
   ],
   "source": [
    "f = h5py.File('/Users/sbkr014/Downloads/1.0.2.h5')\n",
    "np.array(f['health board/age/persons/array']).shape"
   ]
  },
  {
   "cell_type": "code",
   "execution_count": 31,
   "id": "changed-award",
   "metadata": {},
   "outputs": [],
   "source": [
    "def h5_to_product(path):\n",
    "    def add_component(name, node):\n",
    "        if not isinstance(node, h5py.Group):\n",
    "            return\n",
    "        first_key = list(node.keys())[0]\n",
    "        # If children are DataSet, this is the leaf node, create an instance\n",
    "        if isinstance(node[first_key], h5py.Dataset) and 'archived' not in name:\n",
    "            item = {\n",
    "                \"name\": name,\n",
    "                \"location\": \"scotland\",\n",
    "                \"type\": \"raw\"\n",
    "            }\n",
    "            components.append(item)\n",
    "\n",
    "    f = h5py.File(path)\n",
    "    components = []\n",
    "    f.visititems(add_component)\n",
    "    \n",
    "    print(path.name, len(components))\n",
    "\n",
    "    return {\n",
    "        \"product\": path.name.replace(':', '/').replace('.h5', ''),\n",
    "        \"components\": components\n",
    "    }"
   ]
  },
  {
   "cell_type": "code",
   "execution_count": 12,
   "id": "active-mathematics",
   "metadata": {},
   "outputs": [
    {
     "name": "stdout",
     "output_type": "stream",
     "text": [
      "records:SARS-CoV-2:scotland:cases-and-management:carehomes.h5 5\n",
      "records:SARS-CoV-2:scotland:cases-and-management:schools.h5 4\n",
      "records:SARS-CoV-2:scotland:cases-and-management:hospital.h5 6\n",
      "records:SARS-CoV-2:scotland:human-mortality.h5 15\n",
      "records:SARS-CoV-2:scotland:cases-and-management:mortality.h5 1\n",
      "records:SARS-CoV-2:scotland:cases-and-management:nhsworkforce.h5 4\n",
      "records:SARS-CoV-2:scotland:cases-and-management:testing.h5 15\n"
     ]
    }
   ],
   "source": [
    "products = [h5_to_product(path) for path in Path('/Users/sbkr014/Downloads/dataproducts/').rglob('*.h5')]\n",
    "with open('auto_manifest.json', 'w') as f:\n",
    "    json.dump(products, f, indent=4)"
   ]
  },
  {
   "cell_type": "code",
   "execution_count": 35,
   "id": "impossible-newark",
   "metadata": {},
   "outputs": [
    {
     "name": "stdout",
     "output_type": "stream",
     "text": [
      "1.0.2.h5 18\n",
      "{\n",
      "    \"product\": \"1.0.2\",\n",
      "    \"components\": [\n",
      "        {\n",
      "            \"name\": \"datazone/age/genders\",\n",
      "            \"location\": \"scotland\",\n",
      "            \"type\": \"raw\"\n",
      "        },\n",
      "        {\n",
      "            \"name\": \"datazone/age/persons\",\n",
      "            \"location\": \"scotland\",\n",
      "            \"type\": \"raw\"\n",
      "        },\n",
      "        {\n",
      "            \"name\": \"grid area/age/genders\",\n",
      "            \"location\": \"scotland\",\n",
      "            \"type\": \"raw\"\n",
      "        },\n",
      "        {\n",
      "            \"name\": \"grid area/age/persons\",\n",
      "            \"location\": \"scotland\",\n",
      "            \"type\": \"raw\"\n",
      "        },\n",
      "        {\n",
      "            \"name\": \"health board/age/genders\",\n",
      "            \"location\": \"scotland\",\n",
      "            \"type\": \"raw\"\n",
      "        },\n",
      "        {\n",
      "            \"name\": \"health board/age/persons\",\n",
      "            \"location\": \"scotland\",\n",
      "            \"type\": \"raw\"\n",
      "        },\n",
      "        {\n",
      "            \"name\": \"intermediate zone/age/genders\",\n",
      "            \"location\": \"scotland\",\n",
      "            \"type\": \"raw\"\n",
      "        },\n",
      "        {\n",
      "            \"name\": \"intermediate zone/age/persons\",\n",
      "            \"location\": \"scotland\",\n",
      "            \"type\": \"raw\"\n",
      "        },\n",
      "        {\n",
      "            \"name\": \"local authority/age/genders\",\n",
      "            \"location\": \"scotland\",\n",
      "            \"type\": \"raw\"\n",
      "        },\n",
      "        {\n",
      "            \"name\": \"local authority/age/persons\",\n",
      "            \"location\": \"scotland\",\n",
      "            \"type\": \"raw\"\n",
      "        },\n",
      "        {\n",
      "            \"name\": \"multi member ward/age/genders\",\n",
      "            \"location\": \"scotland\",\n",
      "            \"type\": \"raw\"\n",
      "        },\n",
      "        {\n",
      "            \"name\": \"multi member ward/age/persons\",\n",
      "            \"location\": \"scotland\",\n",
      "            \"type\": \"raw\"\n",
      "        },\n",
      "        {\n",
      "            \"name\": \"scottish parliamentary constituency/age/genders\",\n",
      "            \"location\": \"scotland\",\n",
      "            \"type\": \"raw\"\n",
      "        },\n",
      "        {\n",
      "            \"name\": \"scottish parliamentary constituency/age/persons\",\n",
      "            \"location\": \"scotland\",\n",
      "            \"type\": \"raw\"\n",
      "        },\n",
      "        {\n",
      "            \"name\": \"travel to work area/age/genders\",\n",
      "            \"location\": \"scotland\",\n",
      "            \"type\": \"raw\"\n",
      "        },\n",
      "        {\n",
      "            \"name\": \"travel to work area/age/persons\",\n",
      "            \"location\": \"scotland\",\n",
      "            \"type\": \"raw\"\n",
      "        },\n",
      "        {\n",
      "            \"name\": \"urban rural classification/age/genders\",\n",
      "            \"location\": \"scotland\",\n",
      "            \"type\": \"raw\"\n",
      "        },\n",
      "        {\n",
      "            \"name\": \"urban rural classification/age/persons\",\n",
      "            \"location\": \"scotland\",\n",
      "            \"type\": \"raw\"\n",
      "        }\n",
      "    ]\n",
      "}\n"
     ]
    }
   ],
   "source": [
    "print(json.dumps(h5_to_product(Path('/Users/sbkr014/Downloads/1.0.2.h5')), indent=4))"
   ]
  }
 ],
 "metadata": {
  "kernelspec": {
   "display_name": "ramp-vis-api",
   "language": "python",
   "name": "ramp-vis-api"
  },
  "language_info": {
   "codemirror_mode": {
    "name": "ipython",
    "version": 3
   },
   "file_extension": ".py",
   "mimetype": "text/x-python",
   "name": "python",
   "nbconvert_exporter": "python",
   "pygments_lexer": "ipython3",
   "version": "3.8.3"
  }
 },
 "nbformat": 4,
 "nbformat_minor": 5
}
