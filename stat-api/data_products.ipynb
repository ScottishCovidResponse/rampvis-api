{
 "cells": [
  {
   "cell_type": "markdown",
   "id": "outside-richardson",
   "metadata": {},
   "source": [
    "# Generate manifest file"
   ]
  },
  {
   "cell_type": "code",
   "execution_count": 1,
   "id": "pursuant-discipline",
   "metadata": {},
   "outputs": [],
   "source": [
    "from pathlib import Path\n",
    "import json\n",
    "import pandas as pd\n",
    "import h5py"
   ]
  },
  {
   "cell_type": "code",
   "execution_count": 11,
   "id": "exotic-wayne",
   "metadata": {},
   "outputs": [],
   "source": [
    "def h5_to_product(path):\n",
    "    def add_component(name, node):\n",
    "        if not isinstance(node, h5py.Group):\n",
    "            return\n",
    "        first_key = list(node.keys())[0]\n",
    "        # If children are DataSet, this is the leaf node, create an instance\n",
    "        if isinstance(node[first_key], h5py.Dataset) and 'archived' not in name:\n",
    "            item = {\n",
    "                \"name\": name,\n",
    "                \"location\": \"scotland\",\n",
    "                \"type\": \"raw\"\n",
    "            }\n",
    "            components.append(item)\n",
    "\n",
    "    f = h5py.File(path)\n",
    "    components = []\n",
    "    f.visititems(add_component)\n",
    "    \n",
    "    print(path.name, len(components))\n",
    "\n",
    "    return {\n",
    "        \"product\": path.name.replace(':', '/').replace('.h5', ''),\n",
    "        \"components\": components\n",
    "    }"
   ]
  },
  {
   "cell_type": "code",
   "execution_count": 12,
   "id": "administrative-disney",
   "metadata": {},
   "outputs": [
    {
     "name": "stdout",
     "output_type": "stream",
     "text": [
      "records:SARS-CoV-2:scotland:cases-and-management:carehomes.h5 5\n",
      "records:SARS-CoV-2:scotland:cases-and-management:schools.h5 4\n",
      "records:SARS-CoV-2:scotland:cases-and-management:hospital.h5 6\n",
      "records:SARS-CoV-2:scotland:human-mortality.h5 15\n",
      "records:SARS-CoV-2:scotland:cases-and-management:mortality.h5 1\n",
      "records:SARS-CoV-2:scotland:cases-and-management:nhsworkforce.h5 4\n",
      "records:SARS-CoV-2:scotland:cases-and-management:testing.h5 15\n"
     ]
    }
   ],
   "source": [
    "products = [h5_to_product(path) for path in Path('/Users/sbkr014/Downloads/dataproducts/').rglob('*.h5')]\n",
    "with open('auto_manifest.json', 'w') as f:\n",
    "    json.dump(products, f, indent=4)"
   ]
  }
 ],
 "metadata": {
  "kernelspec": {
   "display_name": "ramp-vis-api",
   "language": "python",
   "name": "ramp-vis-api"
  },
  "language_info": {
   "codemirror_mode": {
    "name": "ipython",
    "version": 3
   },
   "file_extension": ".py",
   "mimetype": "text/x-python",
   "name": "python",
   "nbconvert_exporter": "python",
   "pygments_lexer": "ipython3",
   "version": "3.8.3"
  }
 },
 "nbformat": 4,
 "nbformat_minor": 5
}
